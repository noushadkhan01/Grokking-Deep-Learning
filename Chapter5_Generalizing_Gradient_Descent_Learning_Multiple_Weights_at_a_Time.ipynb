{
  "nbformat": 4,
  "nbformat_minor": 0,
  "metadata": {
    "colab": {
      "name": "Chapter5 - Generalizing Gradient Descent - Learning Multiple Weights at a Time.ipynb",
      "version": "0.3.2",
      "provenance": [],
      "collapsed_sections": [],
      "include_colab_link": true
    },
    "kernelspec": {
      "name": "python3",
      "display_name": "Python 3"
    },
    "accelerator": "GPU"
  },
  "cells": [
    {
      "cell_type": "markdown",
      "metadata": {
        "id": "view-in-github",
        "colab_type": "text"
      },
      "source": [
        "<a href=\"https://colab.research.google.com/github/noushadkhan01/Grokking-Deep-Learning/blob/master/Chapter5_Generalizing_Gradient_Descent_Learning_Multiple_Weights_at_a_Time.ipynb\" target=\"_parent\"><img src=\"https://colab.research.google.com/assets/colab-badge.svg\" alt=\"Open In Colab\"/></a>"
      ]
    },
    {
      "cell_type": "markdown",
      "metadata": {
        "id": "9Ok7iJvyvBKX",
        "colab_type": "text"
      },
      "source": [
        "# Gradient Descent Learning with Multiple Inputs"
      ]
    },
    {
      "cell_type": "code",
      "metadata": {
        "id": "3ItCyOAlvBKa",
        "colab_type": "code",
        "outputId": "76551522-d092-4cdc-affa-89739772f103",
        "colab": {
          "base_uri": "https://localhost:8080/",
          "height": 51
        }
      },
      "source": [
        "#define function to multiply the input data and weights and after sum all multiplications\n",
        "def w_sum(inputs, weights):\n",
        "    #check if lenght of input data is equal to the length of weights\n",
        "    assert(len(inputs) == len(weights))\n",
        "    output = 0\n",
        "\n",
        "    for i in range(len(inputs)):\n",
        "        output += (inputs[i] * weights[i])\n",
        "\n",
        "    return output\n",
        "\n",
        "#initialize neural network\n",
        "def neural_network(input,weights):\n",
        "    pred = w_sum(input,weights)\n",
        "    return pred\n",
        "\n",
        "\n",
        "def ele_mul(number,vector):\n",
        "    output = [0,0,0]\n",
        "    \n",
        "    assert(len(output) == len(vector))\n",
        "    \n",
        "    for i in range(len(vector)):\n",
        "        output[i] = number * vector[i]\n",
        "\n",
        "    return output\n",
        "\n",
        "  \n",
        "toes =  [8.5, 9.5, 9.9, 9.0]\n",
        "wlrec = [0.65, 0.8, 0.8, 0.9]\n",
        "nfans = [1.2, 1.3, 0.5, 1.0]\n",
        "\n",
        "#outputs of our data\n",
        "win_or_lose_binary = [1, 1, 0, 1]\n",
        "\n",
        "#feed this 1st output to neural network\n",
        "true = win_or_lose_binary[0]\n",
        "\n",
        "# Input corresponds to every entry\n",
        "# for the first game of the season.\n",
        "\n",
        "#feed first input of data from toes, wlrec, nfans\n",
        "input = [toes[0],wlrec[0],nfans[0]]\n",
        "\n",
        "#initialize weights\n",
        "weights = [0.1, 0.2, -.1] \n",
        "\n",
        "#initialize alpha\n",
        "alpha = 0.01\n",
        "\n",
        "#make prediction\n",
        "#call the function to multiply weights and inputs\n",
        "pred = neural_network(input, weights)\n",
        "\n",
        "#calculate error\n",
        "error = (pred - true) ** 2\n",
        "\n",
        "#calculate delta\n",
        "delta = pred - true\n",
        "\n",
        "#calculate weight_delat for every input\n",
        "weight_deltas = [delta * i for i in input]\n",
        "\n",
        "\n",
        "\n",
        "for i in range(len(weights)):\n",
        "    weights[i] -= alpha * weight_deltas[i]\n",
        "    \n",
        "print(\"Weights:\" + str(weights))\n",
        "print(\"Weight Deltas:\" + str(weight_deltas))"
      ],
      "execution_count": 0,
      "outputs": [
        {
          "output_type": "stream",
          "text": [
            "Weights:[0.1119, 0.20091, -0.09832]\n",
            "Weight Deltas:[-1.189999999999999, -0.09099999999999994, -0.16799999999999987]\n"
          ],
          "name": "stdout"
        }
      ]
    },
    {
      "cell_type": "markdown",
      "metadata": {
        "id": "3xJFW83jrzAM",
        "colab_type": "text"
      },
      "source": [
        "##Numpy version"
      ]
    },
    {
      "cell_type": "code",
      "metadata": {
        "id": "bDz5nTJhr4PG",
        "colab_type": "code",
        "colab": {}
      },
      "source": [
        "def initialize_weights(shape, **kwargs):\n",
        "  import numpy as np\n",
        "  mean = kwargs.get('mean')\n",
        "  sigma = kwargs.get('sigma')\n",
        "  random_state = kwargs.get('random_state')\n",
        "  if not mean:\n",
        "    mean = 0\n",
        "  if not sigma:\n",
        "    sigma = 1\n",
        "  if random_state:\n",
        "    np.random.seed(random_state)\n",
        "  rows, cols = shape\n",
        "  return sigma * np.random.randn(rows, cols)"
      ],
      "execution_count": 0,
      "outputs": []
    },
    {
      "cell_type": "code",
      "metadata": {
        "id": "6mHlqI9Kta0v",
        "colab_type": "code",
        "colab": {}
      },
      "source": [
        "def neural_net(X, y, weights = None, alpha = .01, epochs = 1000, regresson = True, **kwargs):\n",
        "  '''\n",
        "  X = independent variable vector must be in 2d numpy array and must be in shape (n_samples, n_features)\n",
        "\n",
        "  y = dependent variable vector must be in 2d numpy array and must a row vector for single output\n",
        "\n",
        "  alpha = default is 0.01 less the default rate less the learning process of speed of neural network or less fluctuations in error term\n",
        "\n",
        "  epochs = default is 1000, no of epochs when running a neural network\n",
        "\n",
        "  regresson = default is True, if False then it this models will be a classification model\n",
        "\n",
        "  **kwargs\n",
        "  kwargs parameeter\n",
        "  mean for initialize weights\n",
        "  sigma for initialize weights\n",
        "  random_state for initialize weights\n",
        "  '''\n",
        "  assert(X.ndim == 2)\n",
        "  assert(y.ndim == 2)\n",
        "  if weights:\n",
        "    assert(X.shape[1] == weights.shape[0]) \n",
        "  if not weights:\n",
        "    #initialize weights\n",
        "    n_features = X.shape[1]\n",
        "    output_nodes = 1\n",
        "    if not regresson:\n",
        "      n_class = len(set(y))\n",
        "      output_nodes = n_class\n",
        "    shape = (n_features, output_nodes)\n",
        "    weights = initialize_weights(shape, **kwargs)\n",
        "\n",
        "    #Run neural net\n",
        "\n",
        "    n = 1\n",
        "    for i in range(epochs):\n",
        "      pred = X @ weights # it is  2-d array of shape (n_samples, n_class or output_nodes) for single input and single output it's (1, 1)\n",
        "      error = np.sum((pred - y)**2) #it's a 2d array\n",
        "      #direction of error\n",
        "      delta = pred - y\n",
        "      #direction and amount of error term\n",
        "      weight_delta = delta *X #shape of weight delta is (n_samples, n_features)\n",
        "\n",
        "      weights -= weight_delta.T*alpha #shape of weight is (n_features, n_class or output_nodes) so we need to transpose weight_delta first\n",
        "      if n % 100 == 0:\n",
        "        print(f'{n} /{epochs}, error : {error}')\n",
        "      n += 1\n",
        "\n"
      ],
      "execution_count": 0,
      "outputs": []
    },
    {
      "cell_type": "code",
      "metadata": {
        "id": "is37PCm1zt8Q",
        "colab_type": "code",
        "outputId": "c42b6878-e73c-4b9f-f816-ae8eee2cd056",
        "colab": {
          "base_uri": "https://localhost:8080/",
          "height": 187
        }
      },
      "source": [
        "import numpy as np\n",
        "toes =  [8.5, 9.5, 9.9, 9.0]\n",
        "wlrec = [0.65, 0.8, 0.8, 0.9]\n",
        "nfans = [1.2, 1.3, 0.5, 1.0]\n",
        "\n",
        "#outputs of our data\n",
        "win_or_lose_binary = [1, 1, 0, 1]\n",
        "\n",
        "inputs = np.array([toes, wlrec, nfans]).T\n",
        "X = inputs[2:3, :]\n",
        "target = np.array([win_or_lose_binary]).T\n",
        "y = target[2:3, :] \n",
        "\n",
        "neural_net(X, y,alpha = 0.02, random_state = 0, sigma = np.exp(-100), mean = 0)"
      ],
      "execution_count": 35,
      "outputs": [
        {
          "output_type": "stream",
          "text": [
            "100 /1000, error : 6.781295809428677e-87\n",
            "200 /1000, error : 7.926539840658098e-89\n",
            "300 /1000, error : 9.265195858021844e-91\n",
            "400 /1000, error : 1.0829927813793686e-92\n",
            "500 /1000, error : 1.2658916039002188e-94\n",
            "600 /1000, error : 1.4796788865075015e-96\n",
            "700 /1000, error : 1.72957115837048e-98\n",
            "800 /1000, error : 2.0216659262790327e-100\n",
            "900 /1000, error : 2.3630904724029616e-102\n",
            "1000 /1000, error : 2.762175595040576e-104\n"
          ],
          "name": "stdout"
        }
      ]
    },
    {
      "cell_type": "markdown",
      "metadata": {
        "id": "S6vjI-hRvBKj",
        "colab_type": "text"
      },
      "source": [
        "# Let's Watch Several Steps of Learning"
      ]
    },
    {
      "cell_type": "code",
      "metadata": {
        "id": "opFqFB4SvBKj",
        "colab_type": "code",
        "outputId": "b24d1e4d-8332-448e-d87d-c58d5dcf4d62",
        "colab": {
          "base_uri": "https://localhost:8080/",
          "height": 425
        }
      },
      "source": [
        "def neural_network(input, weights):\n",
        "  out = 0\n",
        "  for i in range(len(input)):\n",
        "    out += (input[i] * weights[i])\n",
        "  return out\n",
        "\n",
        "def ele_mul(scalar, vector):\n",
        "  out = [0,0,0]\n",
        "  for i in range(len(out)):\n",
        "    out[i] = vector[i] * scalar\n",
        "  return out\n",
        "\n",
        "toes =  [8.5, 9.5, 9.9, 9.0]\n",
        "wlrec = [0.65, 0.8, 0.8, 0.9]\n",
        "nfans = [1.2, 1.3, 0.5, 1.0]\n",
        "\n",
        "win_or_lose_binary = [1, 1, 0, 1]\n",
        "true = win_or_lose_binary[0]\n",
        "\n",
        "alpha = 0.01\n",
        "weights = [0.1, 0.2, -.1]\n",
        "input = [toes[0],wlrec[0],nfans[0]]\n",
        "\n",
        "for iter in range(3):\n",
        "\n",
        "  pred = neural_network(input,weights)\n",
        "\n",
        "  error = (pred - true) ** 2\n",
        "  delta = pred - true\n",
        "\n",
        "  weight_deltas=ele_mul(delta,input)\n",
        "\n",
        "  print(\"Iteration:\" + str(iter+1))\n",
        "  print(\"Pred:\" + str(pred))\n",
        "  print(\"Error:\" + str(error))\n",
        "  print(\"Delta:\" + str(delta))\n",
        "  print(\"Weights:\" + str(weights))\n",
        "  print(\"Weight_Deltas:\")\n",
        "  print(str(weight_deltas))\n",
        "  print(\n",
        "  )\n",
        "\n",
        "  for i in range(len(weights)):\n",
        "    weights[i]-=alpha*weight_deltas[i]"
      ],
      "execution_count": 0,
      "outputs": [
        {
          "output_type": "stream",
          "text": [
            "Iteration:1\n",
            "Pred:0.8600000000000001\n",
            "Error:0.01959999999999997\n",
            "Delta:-0.1399999999999999\n",
            "Weights:[0.1, 0.2, -0.1]\n",
            "Weight_Deltas:\n",
            "[-1.189999999999999, -0.09099999999999994, -0.16799999999999987]\n",
            "\n",
            "Iteration:2\n",
            "Pred:0.9637574999999999\n",
            "Error:0.0013135188062500048\n",
            "Delta:-0.036242500000000066\n",
            "Weights:[0.1119, 0.20091, -0.09832]\n",
            "Weight_Deltas:\n",
            "[-0.30806125000000056, -0.023557625000000044, -0.04349100000000008]\n",
            "\n",
            "Iteration:3\n",
            "Pred:0.9906177228125002\n",
            "Error:8.802712522307997e-05\n",
            "Delta:-0.009382277187499843\n",
            "Weights:[0.11498061250000001, 0.20114557625, -0.09788509000000001]\n",
            "Weight_Deltas:\n",
            "[-0.07974935609374867, -0.006098480171874899, -0.011258732624999811]\n",
            "\n"
          ],
          "name": "stdout"
        }
      ]
    },
    {
      "cell_type": "markdown",
      "metadata": {
        "id": "Cb3ryo-TvBKn",
        "colab_type": "text"
      },
      "source": [
        "# Freezing One Weight - What Does It Do?"
      ]
    },
    {
      "cell_type": "code",
      "metadata": {
        "id": "AlaKg18wvBKp",
        "colab_type": "code",
        "outputId": "20767005-1f80-40ae-fb8d-c7d2def12a5c",
        "colab": {
          "base_uri": "https://localhost:8080/",
          "height": 425
        }
      },
      "source": [
        "def neural_network(input, weights):\n",
        "  out = 0\n",
        "  for i in range(len(input)):\n",
        "    out += (input[i] * weights[i])\n",
        "  return out\n",
        "\n",
        "def ele_mul(scalar, vector):\n",
        "  out = [0,0,0]\n",
        "  for i in range(len(out)):\n",
        "    out[i] = vector[i] * scalar\n",
        "  return out\n",
        "\n",
        "toes =  [8.5, 9.5, 9.9, 9.0]\n",
        "wlrec = [0.65, 0.8, 0.8, 0.9]\n",
        "nfans = [1.2, 1.3, 0.5, 1.0]\n",
        "\n",
        "win_or_lose_binary = [1, 1, 0, 1]\n",
        "true = win_or_lose_binary[0]\n",
        "\n",
        "alpha = 0.3\n",
        "weights = [0.1, 0.2, -.1]\n",
        "input = [toes[0],wlrec[0],nfans[0]]\n",
        "\n",
        "for iter in range(3):\n",
        "\n",
        "  pred = neural_network(input,weights)\n",
        "\n",
        "  error = (pred - true) ** 2\n",
        "  delta = pred - true\n",
        "\n",
        "  weight_deltas=ele_mul(delta,input)\n",
        "  weight_deltas[0] = 0\n",
        "\n",
        "  print(\"Iteration:\" + str(iter+1))\n",
        "  print(\"Pred:\" + str(pred))\n",
        "  print(\"Error:\" + str(error))\n",
        "  print(\"Delta:\" + str(delta))\n",
        "  print(\"Weights:\" + str(weights))\n",
        "  print(\"Weight_Deltas:\")\n",
        "  print(str(weight_deltas))\n",
        "  print(\n",
        "  )\n",
        "\n",
        "  for i in range(len(weights)):\n",
        "    weights[i]-=alpha*weight_deltas[i]"
      ],
      "execution_count": 0,
      "outputs": [
        {
          "output_type": "stream",
          "text": [
            "Iteration:1\n",
            "Pred:0.8600000000000001\n",
            "Error:0.01959999999999997\n",
            "Delta:-0.1399999999999999\n",
            "Weights:[0.1, 0.2, -0.1]\n",
            "Weight_Deltas:\n",
            "[0, -0.09099999999999994, -0.16799999999999987]\n",
            "\n",
            "Iteration:2\n",
            "Pred:0.9382250000000001\n",
            "Error:0.003816150624999989\n",
            "Delta:-0.06177499999999991\n",
            "Weights:[0.1, 0.2273, -0.04960000000000005]\n",
            "Weight_Deltas:\n",
            "[0, -0.040153749999999946, -0.07412999999999989]\n",
            "\n",
            "Iteration:3\n",
            "Pred:0.97274178125\n",
            "Error:0.000743010489422852\n",
            "Delta:-0.027258218750000007\n",
            "Weights:[0.1, 0.239346125, -0.02736100000000008]\n",
            "Weight_Deltas:\n",
            "[0, -0.017717842187500006, -0.032709862500000006]\n",
            "\n"
          ],
          "name": "stdout"
        }
      ]
    },
    {
      "cell_type": "markdown",
      "metadata": {
        "id": "y7RFH4Q2vBKt",
        "colab_type": "text"
      },
      "source": [
        "# Gradient Descent Learning with Multiple Outputs"
      ]
    },
    {
      "cell_type": "code",
      "metadata": {
        "id": "YrP5EA-ivBKt",
        "colab_type": "code",
        "outputId": "23c76f16-9415-440d-c0f1-62378539cef4",
        "colab": {
          "base_uri": "https://localhost:8080/",
          "height": 51
        }
      },
      "source": [
        "# Instead of predicting just \n",
        "# whether the team won or lost, \n",
        "# now we're also predicting whether\n",
        "# they are happy/sad AND the\n",
        "# percentage of the team that is\n",
        "# hurt. We are making this\n",
        "# prediction using only\n",
        "# the current win/loss record.\n",
        "\n",
        "weights = [0.3, 0.2, 0.9] \n",
        "\n",
        "#we are choosing only one input means only one number so the function is defined below to multiply input and weights\n",
        "# so in this network we have one input and three neuron in hiden layer so they will be producing three output so the network is below\n",
        "def ele_mul(input, weights):\n",
        "  output = [0 for i in range(len(weights))]\n",
        "  for i in range(len(weights)):\n",
        "    output[i] = input * weights[i]\n",
        "  return output\n",
        "\n",
        "\n",
        "def neural_network(input, weights):\n",
        "    pred = ele_mul(input, weights)\n",
        "    return pred\n",
        "\n",
        "wlrec = [0.65, 1.0, 1.0, 0.9]\n",
        "\n",
        "hurt  = [0.1, 0.0, 0.0, 0.1]\n",
        "win   = [  1,   1,   0,   1]\n",
        "sad   = [0.1, 0.0, 0.1, 0.2]\n",
        "\n",
        "input = wlrec[0]\n",
        "true = [hurt[0], win[0], sad[0]]\n",
        "\n",
        "pred = neural_network(input, weights)\n",
        "\n",
        "error = [0, 0, 0] \n",
        "delta = [0, 0, 0]\n",
        "\n",
        "for i in range(len(true)):\n",
        "    error[i] = (pred[i] - true[i]) ** 2\n",
        "    delta[i] = pred[i] - true[i]\n",
        "    \n",
        "\n",
        "def scalar_ele_mul(deltas, inputs):\n",
        "    output = [0,0,0]\n",
        "\n",
        "    assert(len(output) == len(deltas))\n",
        "\n",
        "    for i in range(len(deltas)):\n",
        "        output[i] = deltas[i] * inputs\n",
        "\n",
        "    return output\n",
        "\n",
        "weight_deltas = scalar_ele_mul(delta, input)\n",
        "\n",
        "alpha = 0.1\n",
        "\n",
        "for i in range(len(weights)):\n",
        "    weights[i] -= (weight_deltas[i] * alpha)\n",
        "    \n",
        "print(\"Weights:\" + str(weights))\n",
        "print(\"Weight Deltas:\" + str(weight_deltas))"
      ],
      "execution_count": 0,
      "outputs": [
        {
          "output_type": "stream",
          "text": [
            "Weights:[0.293825, 0.25655, 0.868475]\n",
            "Weight Deltas:[0.061750000000000006, -0.5655, 0.3152500000000001]\n"
          ],
          "name": "stdout"
        }
      ]
    },
    {
      "cell_type": "markdown",
      "metadata": {
        "id": "qVreMPQWvBK1",
        "colab_type": "text"
      },
      "source": [
        "# Gradient Descent with Multiple Inputs & Outputs"
      ]
    },
    {
      "cell_type": "markdown",
      "metadata": {
        "id": "yyK-wVM2XE3p",
        "colab_type": "text"
      },
      "source": [
        "## for 3 identical rows every row have three element and with  3 output"
      ]
    },
    {
      "cell_type": "code",
      "metadata": {
        "id": "XG1nApBFvBK1",
        "colab_type": "code",
        "outputId": "21231cf6-45eb-4051-a9c8-a55d81f688e4",
        "colab": {
          "base_uri": "https://localhost:8080/",
          "height": 68
        }
      },
      "source": [
        "            #toes %win #fans\n",
        "weights = [ [0.1, 0.1, -0.3],#hurt?\n",
        "            [0.1, 0.2, 0.0], #win?\n",
        "            [0.0, 1.3, 0.1] ]#sad?\n",
        "\n",
        "def w_suma(input, weight):\n",
        "    assert(len(input) == len(weight))\n",
        "    output = 0\n",
        "\n",
        "    for i in range(len(input)):\n",
        "        output += (input[i] * weight[i])\n",
        "\n",
        "    return output\n",
        "\n",
        "def vect_mat_mul(input, weights):\n",
        "    assert(len(input) == len(weights))\n",
        "    output = [0,0,0]\n",
        "    for i in range(len(input)):\n",
        "        output[i] = w_sum(input, weights[i])\n",
        "    return output\n",
        "\n",
        "def neural_network(input, weights):\n",
        "    pred = vect_mat_mul(input,weights)\n",
        "    return pred\n",
        "\n",
        "toes  = [8.5, 9.5, 9.9, 9.0]\n",
        "wlrec = [0.65,0.8, 0.8, 0.9]\n",
        "nfans = [1.2, 1.3, 0.5, 1.0]\n",
        "\n",
        "hurt  = [0.1, 0.0, 0.0, 0.1]\n",
        "win   = [  1,   1,   0,   1]\n",
        "sad   = [0.1, 0.0, 0.1, 0.2]\n",
        "\n",
        "alpha = 0.01\n",
        "\n",
        "input = [toes[0],wlrec[0],nfans[0]]\n",
        "true  = [hurt[0], win[0], sad[0]]\n",
        "\n",
        "pred = neural_network(input,weights)\n",
        "\n",
        "error = [0, 0, 0] \n",
        "delta = [0, 0, 0]\n",
        "\n",
        "for i in range(len(true)):\n",
        "    error[i] = (pred[i] - true[i]) ** 2\n",
        "    delta[i] = pred[i] - true[i]\n",
        "    \n",
        "\n",
        "import numpy as np\n",
        "def outer_prod(input, delta):\n",
        "    \n",
        "    # just a matrix of zeros\n",
        "    out = np.zeros((len(input), len(delta)))\n",
        "\n",
        "    for i in range(len(input)):\n",
        "        for j in range(len(delta)):\n",
        "            out[i][j] = input[i] * delta[j]\n",
        "    return out\n",
        "\n",
        "weight_deltas = outer_prod(input, delta)\n",
        "print(weight_deltas)\n",
        "for i in range(len(weights)):\n",
        "    for j in range(len(weights[0])):\n",
        "        weights[i][j] -= alpha * weight_deltas[i][j]\n",
        "## for 3 rows every row have 1 different element-->  3 outputs"
      ],
      "execution_count": 0,
      "outputs": [
        {
          "output_type": "stream",
          "text": [
            "[[ 3.8675  -0.17     7.3525 ]\n",
            " [ 0.29575 -0.013    0.56225]\n",
            " [ 0.546   -0.024    1.038  ]]\n"
          ],
          "name": "stdout"
        }
      ]
    },
    {
      "cell_type": "code",
      "metadata": {
        "id": "LhuMUrAJHK-3",
        "colab_type": "code",
        "outputId": "c20dd07d-af76-4dbf-93e6-829100d0a3b4",
        "colab": {
          "base_uri": "https://localhost:8080/",
          "height": 68
        }
      },
      "source": [
        "def w_sum(input, weights):\n",
        "  assert(len(input) == len(weights))\n",
        "  outputs = [0 for i in range(len(input))]\n",
        "  for n1, i in enumerate(weights):\n",
        "    for n2, j in enumerate(i):\n",
        "      outputs[n1] += j * input[n1]\n",
        "  return outputs\n",
        "\n",
        "def errors(true, outputs):\n",
        "  assert(len(true) == len(outputs))\n",
        "  errors = [0 for i in range(len(true))]\n",
        "  for i in range(len(errors)):\n",
        "    errors[i] = (true[i] - outputs[i])**2\n",
        "    \n",
        "  return errors\n",
        "\n",
        "def weights_modify(true, input):\n",
        "  global weights, alpha\n",
        "  outputs = neural_network(input, weights)\n",
        "  assert(len(true) == len(outputs))\n",
        "  for i in range(len(true)):\n",
        "    deltas = true[i] - outputs[i]\n",
        "    weight_deltas = deltas *input[i]\n",
        "    weights[i] = [j - weight_deltas*alpha for j in weights[i]]\n",
        "  return weights\n",
        "\n",
        "def neural_network(input, weights):\n",
        "  pred = w_sum(input, weights)\n",
        "  return pred\n",
        "  \n",
        "input = [toes[0],wlrec[0],nfans[0]]\n",
        "true  = [hurt[0], win[0], sad[0]]\n",
        "alpha = 0.01\n",
        "\n",
        "            #toes %win #fans\n",
        "weights = [ [0.1, 0.1, -0.3],#hurt?\n",
        "            [0.1, 0.2, 0.0], #win?\n",
        "            [0.0, 1.3, 0.1] ]#sad?\n",
        "\n",
        "weights = weights_modify(true,input)\n",
        "weights"
      ],
      "execution_count": 0,
      "outputs": [
        {
          "output_type": "execute_result",
          "data": {
            "text/plain": [
              "[[0.01925000000000003, 0.01925000000000003, -0.38075],\n",
              " [0.0947675, 0.1947675, -0.0052325],\n",
              " [0.01896, 1.3189600000000001, 0.11896000000000001]]"
            ]
          },
          "metadata": {
            "tags": []
          },
          "execution_count": 25
        }
      ]
    }
  ]
}