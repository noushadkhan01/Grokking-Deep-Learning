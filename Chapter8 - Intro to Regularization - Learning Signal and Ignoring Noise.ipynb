{
  "nbformat": 4,
  "nbformat_minor": 0,
  "metadata": {
    "colab": {
      "name": "Chapter8 - Intro to Regularization - Learning Signal and Ignoring Noise.ipynb",
      "version": "0.3.2",
      "provenance": [],
      "include_colab_link": true
    },
    "kernelspec": {
      "name": "python3",
      "display_name": "Python 3"
    },
    "accelerator": "GPU"
  },
  "cells": [
    {
      "cell_type": "markdown",
      "metadata": {
        "id": "view-in-github",
        "colab_type": "text"
      },
      "source": [
        "<a href=\"https://colab.research.google.com/github/noushadkhan01/Grokking-Deep-Learning/blob/master/Chapter8%20-%20Intro%20to%20Regularization%20-%20Learning%20Signal%20and%20Ignoring%20Noise.ipynb\" target=\"_parent\"><img src=\"https://colab.research.google.com/assets/colab-badge.svg\" alt=\"Open In Colab\"/></a>"
      ]
    },
    {
      "metadata": {
        "id": "OTUQNv7ere-I",
        "colab_type": "text"
      },
      "cell_type": "markdown",
      "source": [
        "# 3 Layer Network on MNIST"
      ]
    },
    {
      "metadata": {
        "id": "dvA-Ubegpiob",
        "colab_type": "text"
      },
      "cell_type": "markdown",
      "source": [
        "#### import dataset from keras"
      ]
    },
    {
      "metadata": {
        "id": "6eSfRHGJuCCE",
        "colab_type": "code",
        "colab": {}
      },
      "cell_type": "code",
      "source": [
        "import sys, numpy as np\n",
        "from keras.datasets import mnist\n",
        "\n",
        "(X_train, y_train), (X_test, y_test) = mnist.load_data()"
      ],
      "execution_count": 0,
      "outputs": []
    },
    {
      "metadata": {
        "id": "V943FK4upLLN",
        "colab_type": "code",
        "colab": {
          "base_uri": "https://localhost:8080/",
          "height": 34
        },
        "outputId": "61f9a4e1-7ecd-42b0-d4f2-fd91f33f53ad"
      },
      "cell_type": "code",
      "source": [
        "X_train.shape, y_train.shape, X_test.shape, y_test.shape"
      ],
      "execution_count": 7,
      "outputs": [
        {
          "output_type": "execute_result",
          "data": {
            "text/plain": [
              "((60000, 28, 28), (60000,), (10000, 28, 28), (10000,))"
            ]
          },
          "metadata": {
            "tags": []
          },
          "execution_count": 7
        }
      ]
    },
    {
      "metadata": {
        "id": "7Gb1GN0XpV1k",
        "colab_type": "text"
      },
      "cell_type": "markdown",
      "source": [
        "^^As you can see in **MNIST** dataset every image have (28, 28) in dimension so 28 * 28 = 784 so when whe flatten this image we got 784 in one row"
      ]
    },
    {
      "metadata": {
        "id": "0VYGfUcgq0JY",
        "colab_type": "text"
      },
      "cell_type": "markdown",
      "source": [
        "## One Hot Encoding of labels"
      ]
    },
    {
      "metadata": {
        "id": "3VbtILyfrmi5",
        "colab_type": "code",
        "colab": {
          "base_uri": "https://localhost:8080/",
          "height": 544
        },
        "outputId": "2cb3282f-e05e-4729-fe20-262eff1608c5"
      },
      "cell_type": "code",
      "source": [
        "import sys, numpy as np\n",
        "\n",
        "#now we are training our model only on 1000 images so take 1000 images from this dataset\n",
        "images, labels = (X_train[0:1000].reshape(1000,28*28) / 255, y_train[0:1000])\n",
        "\n",
        "#create numpy array of zeros with shape (len(labels), 10)\n",
        "#because we need to a class matrix for every digit or we can create it from sklearn one hot encoder or pandas dummies\n",
        "one_hot_labels = np.zeros((len(labels),10))\n",
        "print('-'*120)\n",
        "print(f'Label encoding for Training Data\\n')\n",
        "print('-'*80)\n",
        "print(f'first three Train labels before one hot encoding are \\n {labels[:3]}\\n\\n')\n",
        "\n",
        "#create one hot labels\n",
        "for i,l in enumerate(labels):\n",
        "    one_hot_labels[i][l] = 1\n",
        "labels = one_hot_labels\n",
        "\n",
        "print(f'first three Train Labels after one hot encoding are \\n {labels[:3]} \\n\\n')\n",
        "print('-'*80)\n",
        "test_images = x_test.reshape(len(x_test),28*28) / 255\n",
        "test_labels = np.zeros((len(y_test),10))\n",
        "print('-'*120)\n",
        "print(f'Label encoding for Test Data\\n')\n",
        "print('-'*80)\n",
        "print(f'first three Test labels before one hot encoding are \\n {y_test[:3]}\\n\\n')\n",
        "\n",
        "#create one hot labels\n",
        "for i,l in enumerate(y_test):\n",
        "    test_labels[i][l] = 1\n",
        "print(f'first three Test Labels after one hot encoding are \\n {test_labels[:3]} \\n\\n')\n",
        "print('-'*80)\n",
        "print('-'*120)"
      ],
      "execution_count": 12,
      "outputs": [
        {
          "output_type": "stream",
          "text": [
            "------------------------------------------------------------------------------------------------------------------------\n",
            "Label encoding for Training Data\n",
            "\n",
            "--------------------------------------------------------------------------------\n",
            "first three Train labels before one hot encoding are \n",
            " [5 0 4]\n",
            "\n",
            "\n",
            "first three Train Labels after one hot encoding are \n",
            " [[0. 0. 0. 0. 0. 1. 0. 0. 0. 0.]\n",
            " [1. 0. 0. 0. 0. 0. 0. 0. 0. 0.]\n",
            " [0. 0. 0. 0. 1. 0. 0. 0. 0. 0.]] \n",
            "\n",
            "\n",
            "--------------------------------------------------------------------------------\n",
            "------------------------------------------------------------------------------------------------------------------------\n",
            "Label encoding for Test Data\n",
            "\n",
            "--------------------------------------------------------------------------------\n",
            "first three Test labels before one hot encoding are \n",
            " [7 2 1]\n",
            "\n",
            "\n",
            "first three Test Labels after one hot encoding are \n",
            " [[0. 0. 0. 0. 0. 0. 0. 1. 0. 0.]\n",
            " [0. 0. 1. 0. 0. 0. 0. 0. 0. 0.]\n",
            " [0. 1. 0. 0. 0. 0. 0. 0. 0. 0.]] \n",
            "\n",
            "\n",
            "--------------------------------------------------------------------------------\n",
            "------------------------------------------------------------------------------------------------------------------------\n"
          ],
          "name": "stdout"
        }
      ]
    },
    {
      "metadata": {
        "id": "9TYgO49Ju-Au",
        "colab_type": "code",
        "colab": {
          "base_uri": "https://localhost:8080/",
          "height": 51
        },
        "outputId": "aab98bfe-aa3b-44da-def1-944b382b1bcf"
      },
      "cell_type": "code",
      "source": [
        "X_train = images\n",
        "X_train[:2]"
      ],
      "execution_count": 13,
      "outputs": [
        {
          "output_type": "execute_result",
          "data": {
            "text/plain": [
              "array([[0., 0., 0., ..., 0., 0., 0.],\n",
              "       [0., 0., 0., ..., 0., 0., 0.]])"
            ]
          },
          "metadata": {
            "tags": []
          },
          "execution_count": 13
        }
      ]
    },
    {
      "metadata": {
        "id": "HT1HiA1ovA_C",
        "colab_type": "code",
        "colab": {
          "base_uri": "https://localhost:8080/",
          "height": 34
        },
        "outputId": "12e8f990-96af-47a8-f67c-2650fea1b8c8"
      },
      "cell_type": "code",
      "source": [
        "X_train.shape"
      ],
      "execution_count": 14,
      "outputs": [
        {
          "output_type": "execute_result",
          "data": {
            "text/plain": [
              "(1000, 784)"
            ]
          },
          "metadata": {
            "tags": []
          },
          "execution_count": 14
        }
      ]
    },
    {
      "metadata": {
        "id": "YD6kaFdxvvDq",
        "colab_type": "code",
        "colab": {
          "base_uri": "https://localhost:8080/",
          "height": 68
        },
        "outputId": "e6da4faf-0bbf-4831-a86c-6ee35a8ba81f"
      },
      "cell_type": "code",
      "source": [
        "y_train = labels\n",
        "y_train[:3]"
      ],
      "execution_count": 15,
      "outputs": [
        {
          "output_type": "execute_result",
          "data": {
            "text/plain": [
              "array([[0., 0., 0., 0., 0., 1., 0., 0., 0., 0.],\n",
              "       [1., 0., 0., 0., 0., 0., 0., 0., 0., 0.],\n",
              "       [0., 0., 0., 0., 1., 0., 0., 0., 0., 0.]])"
            ]
          },
          "metadata": {
            "tags": []
          },
          "execution_count": 15
        }
      ]
    },
    {
      "metadata": {
        "id": "v8bcG_N6t_3k",
        "colab_type": "code",
        "colab": {
          "base_uri": "https://localhost:8080/",
          "height": 34
        },
        "outputId": "3b8c7643-9abe-45e4-a784-29e02a85f5cb"
      },
      "cell_type": "code",
      "source": [
        "import numpy as np\n",
        "import sys\n",
        "np.random.seed(1)\n",
        "relu = (lambda x: np.maximum(0, x)) #return 0 if  x < 0 otherwise returns x\n",
        "\n",
        "relu2deriv = (lambda x: x >= 0 )  # return True if x >= 0 otherwise returns False\n",
        "\n",
        "\n",
        "alpha, iterations, hidden_size1, output_size = (0.005, 350, 40, 10)\n",
        "\n",
        "#initialize weights\n",
        "\n",
        "#for layer1\n",
        "weights_1 = 0.2 * np.random.random((X_train.shape[1], hidden_size1)) - 0.1\n",
        "\n",
        "weights_output = .2 * np.random.random((hidden_size1, output_size)) - 0.1\n",
        "\n",
        "#build network\n",
        "\n",
        "#we are using stochastics gradient descent algorithm which means we are updating our weights per example(row)\n",
        "batch_size = 1\n",
        "for iteration in range(iterations):\n",
        "  total_error = 0\n",
        "  correct_prediction = 0\n",
        "  for row in range(len(X_train)):\n",
        "    #get 2-d array of input for every row\n",
        "    X = X_train[row:row + 1]\n",
        "    \n",
        "    #its an array of size (1, 10)\n",
        "    y = y_train[row:row + 1]\n",
        "    \n",
        "    #in python > 3.5 we can use @ inplace of dot product\n",
        "    layer1 = relu(X @ weights_1) #it returns an array of size (1,40)\n",
        "    \n",
        "    layer2 = layer1 @ weights_output #it returns an array of size (1,10)\n",
        "    \n",
        "    \n",
        "    #of index of laye2 maximum values is equel to index of maximum value of y(which is current label)\n",
        "    correct_prediction += int(np.argmax(layer2) == np.argmax(y))\n",
        "    \n",
        "    error = (layer2 - y)**2\n",
        "    total_error += np.sum(error)\n",
        "    \n",
        "    output_delta = (layer2 - y) #it returns an array of size (1, 10)\n",
        "    layer_1_delta = (output_delta @ weights_output.T) # it returns an arry of size (1, 40)\n",
        "    layer_1_delta *= relu2deriv(layer1)\n",
        "    \n",
        "    weights_output -= alpha * (layer1.T @ output_delta) #it returns an array of size (40, 10)\n",
        "    \n",
        "    weights_1 -= alpha * (X.T @ layer_1_delta) #it returns an array of size (784, 40)\n",
        "  sys.stdout.write(\"\\r Iteration:\"+str(iteration)+ \\\n",
        "                     \" Train-Err:\" + str(total_error/float(len(X_train)))[0:5] +\\\n",
        "                     \" Train-Acc:\" + str(correct_prediction/float(len(X_train)))) \n",
        "    \n",
        "  \n",
        "    \n",
        "    \n",
        "    \n"
      ],
      "execution_count": 28,
      "outputs": [
        {
          "output_type": "stream",
          "text": [
            " Iteration:349 Train-Err:0.108 Train-Acc:1.0"
          ],
          "name": "stdout"
        }
      ]
    },
    {
      "metadata": {
        "id": "SD9a8AWr4QQN",
        "colab_type": "code",
        "colab": {
          "base_uri": "https://localhost:8080/",
          "height": 51
        },
        "outputId": "dbb5dc8c-def3-4924-cfa9-4fb88939228b"
      },
      "cell_type": "code",
      "source": [
        "images[:2]"
      ],
      "execution_count": 29,
      "outputs": [
        {
          "output_type": "execute_result",
          "data": {
            "text/plain": [
              "array([[0., 0., 0., ..., 0., 0., 0.],\n",
              "       [0., 0., 0., ..., 0., 0., 0.]])"
            ]
          },
          "metadata": {
            "tags": []
          },
          "execution_count": 29
        }
      ]
    },
    {
      "metadata": {
        "id": "MWAIVVFZ4RaN",
        "colab_type": "code",
        "colab": {
          "base_uri": "https://localhost:8080/",
          "height": 51
        },
        "outputId": "42d47285-ab79-49fd-9329-d6f891329347"
      },
      "cell_type": "code",
      "source": [
        "labels[:2]"
      ],
      "execution_count": 30,
      "outputs": [
        {
          "output_type": "execute_result",
          "data": {
            "text/plain": [
              "array([[0., 0., 0., 0., 0., 1., 0., 0., 0., 0.],\n",
              "       [1., 0., 0., 0., 0., 0., 0., 0., 0., 0.]])"
            ]
          },
          "metadata": {
            "tags": []
          },
          "execution_count": 30
        }
      ]
    },
    {
      "metadata": {
        "id": "YLHYHtkcre-O",
        "colab_type": "code",
        "outputId": "9b248e17-a9f9-481d-b4a9-d4237c8944cf",
        "colab": {
          "base_uri": "https://localhost:8080/",
          "height": 34
        }
      },
      "cell_type": "code",
      "source": [
        "import sys, numpy as np\n",
        "np.random.seed(1)\n",
        "relu = lambda x:(x>=0) * x # returns x if x > 0, return 0 otherwise\n",
        "relu2deriv = lambda x: x>=0 # returns 1 for input > 0, return 0 otherwise\n",
        "alpha, iterations, hidden_size, pixels_per_image, num_labels = (0.005, 350, 40, 784, 10)\n",
        "\n",
        "weights_0_1 = 0.2*np.random.random((pixels_per_image,hidden_size)) - 0.1\n",
        "weights_1_2 = 0.2*np.random.random((hidden_size,num_labels)) - 0.1\n",
        "\n",
        "for j in range(iterations):\n",
        "    error, correct_cnt = (0.0, 0)\n",
        "    \n",
        "    for i in range(len(images)):\n",
        "        layer_0 = images[i:i+1]\n",
        "        layer_1 = relu(layer_0 @ weights_0_1)\n",
        "        layer_2 = layer_1 @ weights_1_2\n",
        "        \n",
        "        error += np.sum((labels[i:i+1] - layer_2) ** 2)\n",
        "        correct_cnt += int(np.argmax(layer_2) == \\\n",
        "                                        np.argmax(labels[i:i+1]))\n",
        "\n",
        "        layer_2_delta = (labels[i:i+1] - layer_2)\n",
        "        layer_1_delta = layer_2_delta@weights_1_2.T\\\n",
        "                                    * relu2deriv(layer_1)\n",
        "        weights_1_2 += alpha * layer_1.T @ layer_2_delta\n",
        "        weights_0_1 += alpha * layer_0.T@layer_1_delta\n",
        "\n",
        "    sys.stdout.write(\"\\r I:\"+str(j)+ \\\n",
        "                     \" Train-Err:\" + str(error/float(len(images)))[0:5] +\\\n",
        "                     \" Train-Acc:\" + str(correct_cnt/float(len(images))))"
      ],
      "execution_count": 31,
      "outputs": [
        {
          "output_type": "stream",
          "text": [
            " I:349 Train-Err:0.108 Train-Acc:1.0"
          ],
          "name": "stdout"
        }
      ]
    },
    {
      "metadata": {
        "id": "eyZDwlzm0qDK",
        "colab_type": "code",
        "outputId": "5a677976-86c8-457b-85f5-a2a36b96ee5f",
        "colab": {
          "base_uri": "https://localhost:8080/",
          "height": 85
        }
      },
      "cell_type": "code",
      "source": [
        "layer_2"
      ],
      "execution_count": 0,
      "outputs": [
        {
          "output_type": "execute_result",
          "data": {
            "text/plain": [
              "array([[-3.27533080e-02, -5.37572964e-03,  6.82407035e-02,\n",
              "         6.95686725e-02, -2.67865372e-03, -1.50480362e-01,\n",
              "         9.74881207e-01,  1.15799228e-02, -8.82299564e-06,\n",
              "         1.97680831e-02]])"
            ]
          },
          "metadata": {
            "tags": []
          },
          "execution_count": 9
        }
      ]
    },
    {
      "metadata": {
        "id": "lwo5NpHC0rKi",
        "colab_type": "code",
        "outputId": "4e50fc79-4e5e-4736-f306-6a9c2ad80ae5",
        "colab": {
          "base_uri": "https://localhost:8080/",
          "height": 34
        }
      },
      "cell_type": "code",
      "source": [
        "layer_2.shape"
      ],
      "execution_count": 0,
      "outputs": [
        {
          "output_type": "execute_result",
          "data": {
            "text/plain": [
              "(1, 10)"
            ]
          },
          "metadata": {
            "tags": []
          },
          "execution_count": 10
        }
      ]
    },
    {
      "metadata": {
        "id": "4K3XdlxP1ISr",
        "colab_type": "code",
        "outputId": "93b01d28-5132-48f1-cb20-ef7e5177a051",
        "colab": {
          "base_uri": "https://localhost:8080/",
          "height": 34
        }
      },
      "cell_type": "code",
      "source": [
        "labels.shape"
      ],
      "execution_count": 0,
      "outputs": [
        {
          "output_type": "execute_result",
          "data": {
            "text/plain": [
              "(1000, 10)"
            ]
          },
          "metadata": {
            "tags": []
          },
          "execution_count": 12
        }
      ]
    },
    {
      "metadata": {
        "id": "VGDZQ_L11PbQ",
        "colab_type": "code",
        "outputId": "2efa1f1a-2807-4665-d4c5-cfeb993af9cf",
        "colab": {
          "base_uri": "https://localhost:8080/",
          "height": 34
        }
      },
      "cell_type": "code",
      "source": [
        "labels[999:1000]"
      ],
      "execution_count": 0,
      "outputs": [
        {
          "output_type": "execute_result",
          "data": {
            "text/plain": [
              "array([[0., 0., 0., 0., 0., 0., 1., 0., 0., 0.]])"
            ]
          },
          "metadata": {
            "tags": []
          },
          "execution_count": 20
        }
      ]
    },
    {
      "metadata": {
        "id": "9T5BZlk515No",
        "colab_type": "code",
        "outputId": "30a248ea-1213-4b0b-810b-64d03d903be2",
        "colab": {
          "base_uri": "https://localhost:8080/",
          "height": 34
        }
      },
      "cell_type": "code",
      "source": [
        "#it returns index of maximum value\n",
        "np.argmax(layer_2)"
      ],
      "execution_count": 0,
      "outputs": [
        {
          "output_type": "execute_result",
          "data": {
            "text/plain": [
              "6"
            ]
          },
          "metadata": {
            "tags": []
          },
          "execution_count": 26
        }
      ]
    },
    {
      "metadata": {
        "id": "i_tc1LSe2AEp",
        "colab_type": "code",
        "outputId": "d28d0059-770b-4d52-ef5d-7982b7d74b78",
        "colab": {
          "base_uri": "https://localhost:8080/",
          "height": 34
        }
      },
      "cell_type": "code",
      "source": [
        "np.argmax(labels[999:1000])"
      ],
      "execution_count": 0,
      "outputs": [
        {
          "output_type": "execute_result",
          "data": {
            "text/plain": [
              "6"
            ]
          },
          "metadata": {
            "tags": []
          },
          "execution_count": 27
        }
      ]
    },
    {
      "metadata": {
        "id": "_EkJSgfV0tlS",
        "colab_type": "code",
        "outputId": "d4ef7beb-df8a-41ca-da26-729079af0b02",
        "colab": {
          "base_uri": "https://localhost:8080/",
          "height": 34
        }
      },
      "cell_type": "code",
      "source": [
        "correct_cnt = 0\n",
        "correct_cnt += int(np.argmax(layer_2) == \\\n",
        "                                        np.argmax(labels[999:1000]))\n",
        "correct_cnt"
      ],
      "execution_count": 0,
      "outputs": [
        {
          "output_type": "execute_result",
          "data": {
            "text/plain": [
              "1"
            ]
          },
          "metadata": {
            "tags": []
          },
          "execution_count": 22
        }
      ]
    },
    {
      "metadata": {
        "id": "hNgAsJ0vre-d",
        "colab_type": "code",
        "outputId": "a1f8029e-881c-4cc8-9dca-636b59fde230",
        "colab": {
          "base_uri": "https://localhost:8080/",
          "height": 51
        }
      },
      "cell_type": "code",
      "source": [
        "if(j % 10 == 0 or j == iterations-1):\n",
        "    error, correct_cnt = (0.0, 0)\n",
        "\n",
        "    for i in range(len(test_images)):\n",
        "\n",
        "        layer_0 = test_images[i:i+1]\n",
        "        layer_1 = relu(np.dot(layer_0,weights_0_1))\n",
        "        layer_2 = np.dot(layer_1,weights_1_2)\n",
        "\n",
        "        error += np.sum((test_labels[i:i+1] - layer_2) ** 2)\n",
        "        correct_cnt += int(np.argmax(layer_2) == \\\n",
        "                                        np.argmax(test_labels[i:i+1]))\n",
        "    sys.stdout.write(\" Test-Err:\" + str(error/float(len(test_images)))[0:5] +\\\n",
        "                     \" Test-Acc:\" + str(correct_cnt/float(len(test_images))) + \"\\n\")\n",
        "    print()"
      ],
      "execution_count": 0,
      "outputs": [
        {
          "output_type": "stream",
          "text": [
            " Test-Err:0.653 Test-Acc:0.7073\n",
            "\n"
          ],
          "name": "stdout"
        }
      ]
    },
    {
      "metadata": {
        "id": "-c1lpM9E3yq9",
        "colab_type": "text"
      },
      "cell_type": "markdown",
      "source": [
        "^^**As you can see its overfit model**"
      ]
    },
    {
      "metadata": {
        "id": "-VEjZOY84GkP",
        "colab_type": "text"
      },
      "cell_type": "markdown",
      "source": [
        "# Print Test Error with Train Error"
      ]
    },
    {
      "metadata": {
        "id": "3OmS8pk4re-m",
        "colab_type": "code",
        "outputId": "e555ecc1-2449-4f95-d816-29ce74aa9c83",
        "colab": {
          "base_uri": "https://localhost:8080/",
          "height": 629
        }
      },
      "cell_type": "code",
      "source": [
        "import sys, numpy as np\n",
        "from keras.datasets import mnist\n",
        "\n",
        "(x_train, y_train), (x_test, y_test) = mnist.load_data()\n",
        "\n",
        "images, labels = (x_train[0:1000].reshape(1000,28*28) / 255, y_train[0:1000])\n",
        "\n",
        "one_hot_labels = np.zeros((len(labels),10))\n",
        "for i,l in enumerate(labels):\n",
        "    one_hot_labels[i][l] = 1\n",
        "labels = one_hot_labels\n",
        "\n",
        "test_images = x_test.reshape(len(x_test),28*28) / 255\n",
        "test_labels = np.zeros((len(y_test),10))\n",
        "for i,l in enumerate(y_test):\n",
        "    test_labels[i][l] = 1\n",
        "\n",
        "np.random.seed(1)\n",
        "relu = lambda x:(x>=0) * x # returns x if x > 0, return 0 otherwise\n",
        "relu2deriv = lambda x: x>=0 # returns 1 for input > 0, return 0 otherwise\n",
        "alpha, iterations, hidden_size, pixels_per_image, num_labels = (0.005, 350, 40, 784, 10)\n",
        "\n",
        "weights_0_1 = 0.2*np.random.random((pixels_per_image,hidden_size)) - 0.1\n",
        "weights_1_2 = 0.2*np.random.random((hidden_size,num_labels)) - 0.1\n",
        "\n",
        "for j in range(iterations):\n",
        "    error, correct_cnt = (0.0, 0)\n",
        "    \n",
        "    for i in range(len(images)):\n",
        "        layer_0 = images[i:i+1]\n",
        "        layer_1 = relu(np.dot(layer_0,weights_0_1))\n",
        "        layer_2 = np.dot(layer_1,weights_1_2)\n",
        "\n",
        "        error += np.sum((labels[i:i+1] - layer_2) ** 2)\n",
        "        correct_cnt += int(np.argmax(layer_2) == \\\n",
        "                                        np.argmax(labels[i:i+1]))\n",
        "\n",
        "        layer_2_delta = (labels[i:i+1] - layer_2)\n",
        "        layer_1_delta = layer_2_delta.dot(weights_1_2.T)\\\n",
        "                                    * relu2deriv(layer_1)\n",
        "        weights_1_2 += alpha * layer_1.T.dot(layer_2_delta)\n",
        "        weights_0_1 += alpha * layer_0.T.dot(layer_1_delta)\n",
        "\n",
        "    sys.stdout.write(\"\\r I:\"+str(j)+ \\\n",
        "                     \" Train-Err:\" + str(error/float(len(images)))[0:5] +\\\n",
        "                     \" Train-Acc:\" + str(correct_cnt/float(len(images))))\n",
        "    \n",
        "    if(j % 10 == 0 or j == iterations-1):\n",
        "        error, correct_cnt = (0.0, 0)\n",
        "\n",
        "        for i in range(len(test_images)):\n",
        "\n",
        "            layer_0 = test_images[i:i+1]\n",
        "            layer_1 = relu(np.dot(layer_0,weights_0_1))\n",
        "            layer_2 = np.dot(layer_1,weights_1_2)\n",
        "\n",
        "            error += np.sum((test_labels[i:i+1] - layer_2) ** 2)\n",
        "            correct_cnt += int(np.argmax(layer_2) == \\\n",
        "                                            np.argmax(test_labels[i:i+1]))\n",
        "        sys.stdout.write(\" Test-Err:\" + str(error/float(len(test_images)))[0:5] +\\\n",
        "                         \" Test-Acc:\" + str(correct_cnt/float(len(test_images))))\n",
        "        print()"
      ],
      "execution_count": 0,
      "outputs": [
        {
          "output_type": "stream",
          "text": [
            " I:0 Train-Err:0.722 Train-Acc:0.537 Test-Err:0.601 Test-Acc:0.6488\n",
            " I:10 Train-Err:0.312 Train-Acc:0.901 Test-Err:0.420 Test-Acc:0.8114\n",
            " I:20 Train-Err:0.260 Train-Acc:0.93 Test-Err:0.414 Test-Acc:0.8111\n",
            " I:30 Train-Err:0.232 Train-Acc:0.946 Test-Err:0.417 Test-Acc:0.8066\n",
            " I:40 Train-Err:0.215 Train-Acc:0.956 Test-Err:0.426 Test-Acc:0.8019\n",
            " I:50 Train-Err:0.204 Train-Acc:0.966 Test-Err:0.437 Test-Acc:0.7982\n",
            " I:60 Train-Err:0.194 Train-Acc:0.967 Test-Err:0.448 Test-Acc:0.7921\n",
            " I:70 Train-Err:0.186 Train-Acc:0.975 Test-Err:0.458 Test-Acc:0.7864\n",
            " I:80 Train-Err:0.179 Train-Acc:0.979 Test-Err:0.466 Test-Acc:0.7817\n",
            " I:90 Train-Err:0.172 Train-Acc:0.981 Test-Err:0.474 Test-Acc:0.7758\n",
            " I:100 Train-Err:0.166 Train-Acc:0.984 Test-Err:0.482 Test-Acc:0.7706\n",
            " I:110 Train-Err:0.161 Train-Acc:0.984 Test-Err:0.489 Test-Acc:0.7686\n",
            " I:120 Train-Err:0.157 Train-Acc:0.986 Test-Err:0.496 Test-Acc:0.766\n",
            " I:130 Train-Err:0.153 Train-Acc:0.99 Test-Err:0.502 Test-Acc:0.7622\n",
            " I:140 Train-Err:0.149 Train-Acc:0.991 Test-Err:0.508 Test-Acc:0.758\n",
            " I:150 Train-Err:0.145 Train-Acc:0.991 Test-Err:0.513 Test-Acc:0.7558\n",
            " I:160 Train-Err:0.141 Train-Acc:0.992 Test-Err:0.518 Test-Acc:0.7553\n",
            " I:170 Train-Err:0.138 Train-Acc:0.992 Test-Err:0.524 Test-Acc:0.751\n",
            " I:180 Train-Err:0.135 Train-Acc:0.995 Test-Err:0.528 Test-Acc:0.7505\n",
            " I:190 Train-Err:0.132 Train-Acc:0.995 Test-Err:0.533 Test-Acc:0.7482\n",
            " I:200 Train-Err:0.130 Train-Acc:0.998 Test-Err:0.538 Test-Acc:0.7464\n",
            " I:210 Train-Err:0.127 Train-Acc:0.998 Test-Err:0.544 Test-Acc:0.7446\n",
            " I:220 Train-Err:0.125 Train-Acc:0.998 Test-Err:0.552 Test-Acc:0.7416\n",
            " I:230 Train-Err:0.123 Train-Acc:0.998 Test-Err:0.560 Test-Acc:0.7372\n",
            " I:240 Train-Err:0.121 Train-Acc:0.998 Test-Err:0.569 Test-Acc:0.7344\n",
            " I:250 Train-Err:0.120 Train-Acc:0.999 Test-Err:0.577 Test-Acc:0.7316\n",
            " I:260 Train-Err:0.118 Train-Acc:0.999 Test-Err:0.585 Test-Acc:0.729\n",
            " I:270 Train-Err:0.117 Train-Acc:0.999 Test-Err:0.593 Test-Acc:0.7259\n",
            " I:280 Train-Err:0.115 Train-Acc:0.999 Test-Err:0.600 Test-Acc:0.723\n",
            " I:290 Train-Err:0.114 Train-Acc:0.999 Test-Err:0.607 Test-Acc:0.7196\n",
            " I:300 Train-Err:0.113 Train-Acc:0.999 Test-Err:0.614 Test-Acc:0.7183\n",
            " I:310 Train-Err:0.112 Train-Acc:0.999 Test-Err:0.622 Test-Acc:0.7165\n",
            " I:320 Train-Err:0.111 Train-Acc:0.999 Test-Err:0.629 Test-Acc:0.7133\n",
            " I:330 Train-Err:0.110 Train-Acc:0.999 Test-Err:0.637 Test-Acc:0.7125\n",
            " I:340 Train-Err:0.109 Train-Acc:1.0 Test-Err:0.645 Test-Acc:0.71\n",
            " I:349 Train-Err:0.108 Train-Acc:1.0 Test-Err:0.653 Test-Acc:0.7073\n"
          ],
          "name": "stdout"
        }
      ]
    },
    {
      "metadata": {
        "id": "mDjaac9wre-q",
        "colab_type": "text"
      },
      "cell_type": "markdown",
      "source": [
        "# Dropout In Code"
      ]
    },
    {
      "metadata": {
        "id": "fRmJiD2sre-s",
        "colab_type": "code",
        "colab": {}
      },
      "cell_type": "code",
      "source": [
        "i = 0\n",
        "layer_0 = images[i:i+1]\n",
        "dropout_mask = np.random.randint(2,size=layer_1.shape)\n",
        "\n",
        "layer_1 *= dropout_mask * 2\n",
        "layer_2 = np.dot(layer_1, weights_1_2)\n",
        "\n",
        "error += np.sum((labels[i:i+1] - layer_2) ** 2)\n",
        "\n",
        "correct_cnt += int(np.argmax(layer_2) == np.argmax(labels[i+i+1]))\n",
        "\n",
        "layer_2_delta = (labels[i:i+1] - layer_2)\n",
        "layer_1_delta = layer_2_delta.dot(weights_1_2.T) * relu2deriv(layer_1)\n",
        "\n",
        "layer_1_delta *= dropout_mask\n",
        "\n",
        "weights_1_2 += alpha * layer_1.T.dot(layer_2_delta)\n",
        "weights_0_1 += alpha * layer_0.T.dot(layer_1_delta)"
      ],
      "execution_count": 0,
      "outputs": []
    },
    {
      "metadata": {
        "id": "Xbg-KSF5re-x",
        "colab_type": "code",
        "outputId": "d13fac81-0150-4f41-a14f-08f50482a3c0",
        "colab": {}
      },
      "cell_type": "code",
      "source": [
        "import numpy, sys\n",
        "np.random.seed(1)\n",
        "def relu(x):\n",
        "    return (x >= 0) * x # returns x if x > 0\n",
        "                        # returns 0 otherwise\n",
        "\n",
        "def relu2deriv(output):\n",
        "    return output >= 0 #returns 1 for input > 0\n",
        "\n",
        "alpha, iterations, hidden_size = (0.005, 300, 100)\n",
        "pixels_per_image, num_labels = (784, 10)\n",
        "\n",
        "weights_0_1 = 0.2*np.random.random((pixels_per_image,hidden_size)) - 0.1\n",
        "weights_1_2 = 0.2*np.random.random((hidden_size,num_labels)) - 0.1\n",
        "\n",
        "for j in range(iterations):\n",
        "    error, correct_cnt = (0.0,0)\n",
        "    for i in range(len(images)):\n",
        "        layer_0 = images[i:i+1]\n",
        "        layer_1 = relu(np.dot(layer_0,weights_0_1))\n",
        "        dropout_mask = np.random.randint(2, size=layer_1.shape)\n",
        "        layer_1 *= dropout_mask * 2\n",
        "        layer_2 = np.dot(layer_1,weights_1_2)\n",
        "\n",
        "        error += np.sum((labels[i:i+1] - layer_2) ** 2)\n",
        "        correct_cnt += int(np.argmax(layer_2) == np.argmax(labels[i:i+1]))\n",
        "        layer_2_delta = (labels[i:i+1] - layer_2)\n",
        "        layer_1_delta = layer_2_delta.dot(weights_1_2.T) * relu2deriv(layer_1)\n",
        "        layer_1_delta *= dropout_mask\n",
        "\n",
        "        weights_1_2 += alpha * layer_1.T.dot(layer_2_delta)\n",
        "        weights_0_1 += alpha * layer_0.T.dot(layer_1_delta)\n",
        "\n",
        "    if(j%10 == 0):\n",
        "        test_error = 0.0\n",
        "        test_correct_cnt = 0\n",
        "\n",
        "        for i in range(len(test_images)):\n",
        "            layer_0 = test_images[i:i+1]\n",
        "            layer_1 = relu(np.dot(layer_0,weights_0_1))\n",
        "            layer_2 = np.dot(layer_1, weights_1_2)\n",
        "\n",
        "            test_error += np.sum((test_labels[i:i+1] - layer_2) ** 2)\n",
        "            test_correct_cnt += int(np.argmax(layer_2) == np.argmax(test_labels[i:i+1]))\n",
        "\n",
        "        sys.stdout.write(\"\\n\" + \\\n",
        "                         \"I:\" + str(j) + \\\n",
        "                         \" Test-Err:\" + str(test_error/ float(len(test_images)))[0:5] +\\\n",
        "                         \" Test-Acc:\" + str(test_correct_cnt/ float(len(test_images)))+\\\n",
        "                         \" Train-Err:\" + str(error/ float(len(images)))[0:5] +\\\n",
        "                         \" Train-Acc:\" + str(correct_cnt/ float(len(images))))"
      ],
      "execution_count": 0,
      "outputs": [
        {
          "output_type": "stream",
          "text": [
            "\n",
            "I:0 Test-Err:0.641 Test-Acc:0.6333 Train-Err:0.891 Train-Acc:0.413\n",
            "I:10 Test-Err:0.458 Test-Acc:0.787 Train-Err:0.472 Train-Acc:0.764\n",
            "I:20 Test-Err:0.415 Test-Acc:0.8133 Train-Err:0.430 Train-Acc:0.809\n",
            "I:30 Test-Err:0.421 Test-Acc:0.8114 Train-Err:0.415 Train-Acc:0.811\n",
            "I:40 Test-Err:0.419 Test-Acc:0.8112 Train-Err:0.413 Train-Acc:0.827\n",
            "I:50 Test-Err:0.409 Test-Acc:0.8133 Train-Err:0.392 Train-Acc:0.836\n",
            "I:60 Test-Err:0.412 Test-Acc:0.8236 Train-Err:0.402 Train-Acc:0.836\n",
            "I:70 Test-Err:0.412 Test-Acc:0.8033 Train-Err:0.383 Train-Acc:0.857\n",
            "I:80 Test-Err:0.410 Test-Acc:0.8054 Train-Err:0.386 Train-Acc:0.854\n",
            "I:90 Test-Err:0.411 Test-Acc:0.8144 Train-Err:0.376 Train-Acc:0.868\n",
            "I:100 Test-Err:0.411 Test-Acc:0.7903 Train-Err:0.369 Train-Acc:0.864\n",
            "I:110 Test-Err:0.411 Test-Acc:0.8003 Train-Err:0.371 Train-Acc:0.868\n",
            "I:120 Test-Err:0.402 Test-Acc:0.8046 Train-Err:0.353 Train-Acc:0.857\n",
            "I:130 Test-Err:0.408 Test-Acc:0.8091 Train-Err:0.352 Train-Acc:0.867\n",
            "I:140 Test-Err:0.405 Test-Acc:0.8083 Train-Err:0.355 Train-Acc:0.885\n",
            "I:150 Test-Err:0.404 Test-Acc:0.8107 Train-Err:0.342 Train-Acc:0.883\n",
            "I:160 Test-Err:0.399 Test-Acc:0.8146 Train-Err:0.361 Train-Acc:0.876\n",
            "I:170 Test-Err:0.404 Test-Acc:0.8074 Train-Err:0.344 Train-Acc:0.889\n",
            "I:180 Test-Err:0.399 Test-Acc:0.807 Train-Err:0.333 Train-Acc:0.892\n",
            "I:190 Test-Err:0.407 Test-Acc:0.8066 Train-Err:0.335 Train-Acc:0.898\n",
            "I:200 Test-Err:0.405 Test-Acc:0.8036 Train-Err:0.347 Train-Acc:0.893\n",
            "I:210 Test-Err:0.405 Test-Acc:0.8034 Train-Err:0.336 Train-Acc:0.894\n",
            "I:220 Test-Err:0.402 Test-Acc:0.8067 Train-Err:0.325 Train-Acc:0.896\n",
            "I:230 Test-Err:0.404 Test-Acc:0.8091 Train-Err:0.321 Train-Acc:0.894\n",
            "I:240 Test-Err:0.415 Test-Acc:0.8091 Train-Err:0.332 Train-Acc:0.898\n",
            "I:250 Test-Err:0.395 Test-Acc:0.8182 Train-Err:0.320 Train-Acc:0.899\n",
            "I:260 Test-Err:0.390 Test-Acc:0.8204 Train-Err:0.321 Train-Acc:0.899\n",
            "I:270 Test-Err:0.382 Test-Acc:0.8194 Train-Err:0.312 Train-Acc:0.906\n",
            "I:280 Test-Err:0.396 Test-Acc:0.8208 Train-Err:0.317 Train-Acc:0.9\n",
            "I:290 Test-Err:0.399 Test-Acc:0.8181 Train-Err:0.301 Train-Acc:0.908"
          ],
          "name": "stdout"
        }
      ]
    },
    {
      "metadata": {
        "id": "o-i7Ir33re-6",
        "colab_type": "text"
      },
      "cell_type": "markdown",
      "source": [
        "# Batch Gradient Descent"
      ]
    },
    {
      "metadata": {
        "id": "TzS4-zZLre-8",
        "colab_type": "code",
        "outputId": "be3c62dd-4103-4aee-d30a-ff03e4001024",
        "colab": {}
      },
      "cell_type": "code",
      "source": [
        "import numpy as np\n",
        "np.random.seed(1)\n",
        "\n",
        "def relu(x):\n",
        "    return (x >= 0) * x # returns x if x > 0\n",
        "\n",
        "def relu2deriv(output):\n",
        "    return output >= 0 # returns 1 for input > 0\n",
        "\n",
        "batch_size = 100\n",
        "alpha, iterations = (0.001, 300)\n",
        "pixels_per_image, num_labels, hidden_size = (784, 10, 100)\n",
        "\n",
        "weights_0_1 = 0.2*np.random.random((pixels_per_image,hidden_size)) - 0.1\n",
        "weights_1_2 = 0.2*np.random.random((hidden_size,num_labels)) - 0.1\n",
        "\n",
        "for j in range(iterations):\n",
        "    error, correct_cnt = (0.0, 0)\n",
        "    for i in range(int(len(images) / batch_size)):\n",
        "        batch_start, batch_end = ((i * batch_size),((i+1)*batch_size))\n",
        "\n",
        "        layer_0 = images[batch_start:batch_end]\n",
        "        layer_1 = relu(np.dot(layer_0,weights_0_1))\n",
        "        dropout_mask = np.random.randint(2,size=layer_1.shape)\n",
        "        layer_1 *= dropout_mask * 2\n",
        "        layer_2 = np.dot(layer_1,weights_1_2)\n",
        "\n",
        "        error += np.sum((labels[batch_start:batch_end] - layer_2) ** 2)\n",
        "        for k in range(batch_size):\n",
        "            correct_cnt += int(np.argmax(layer_2[k:k+1]) == np.argmax(labels[batch_start+k:batch_start+k+1]))\n",
        "\n",
        "            layer_2_delta = (labels[batch_start:batch_end]-layer_2)/batch_size\n",
        "            layer_1_delta = layer_2_delta.dot(weights_1_2.T)* relu2deriv(layer_1)\n",
        "            layer_1_delta *= dropout_mask\n",
        "\n",
        "            weights_1_2 += alpha * layer_1.T.dot(layer_2_delta)\n",
        "            weights_0_1 += alpha * layer_0.T.dot(layer_1_delta)\n",
        "            \n",
        "    if(j%10 == 0):\n",
        "        test_error = 0.0\n",
        "        test_correct_cnt = 0\n",
        "\n",
        "        for i in range(len(test_images)):\n",
        "            layer_0 = test_images[i:i+1]\n",
        "            layer_1 = relu(np.dot(layer_0,weights_0_1))\n",
        "            layer_2 = np.dot(layer_1, weights_1_2)\n",
        "\n",
        "            test_error += np.sum((test_labels[i:i+1] - layer_2) ** 2)\n",
        "            test_correct_cnt += int(np.argmax(layer_2) == np.argmax(test_labels[i:i+1]))\n",
        "\n",
        "        sys.stdout.write(\"\\n\" + \\\n",
        "                         \"I:\" + str(j) + \\\n",
        "                         \" Test-Err:\" + str(test_error/ float(len(test_images)))[0:5] +\\\n",
        "                         \" Test-Acc:\" + str(test_correct_cnt/ float(len(test_images)))+\\\n",
        "                         \" Train-Err:\" + str(error/ float(len(images)))[0:5] +\\\n",
        "                         \" Train-Acc:\" + str(correct_cnt/ float(len(images))))"
      ],
      "execution_count": 0,
      "outputs": [
        {
          "output_type": "stream",
          "text": [
            "\n",
            "I:0 Test-Err:0.815 Test-Acc:0.3832 Train-Err:1.284 Train-Acc:0.165\n",
            "I:10 Test-Err:0.568 Test-Acc:0.7173 Train-Err:0.591 Train-Acc:0.672\n",
            "I:20 Test-Err:0.510 Test-Acc:0.7571 Train-Err:0.532 Train-Acc:0.729\n",
            "I:30 Test-Err:0.485 Test-Acc:0.7793 Train-Err:0.498 Train-Acc:0.754\n",
            "I:40 Test-Err:0.468 Test-Acc:0.7877 Train-Err:0.489 Train-Acc:0.749\n",
            "I:50 Test-Err:0.458 Test-Acc:0.793 Train-Err:0.468 Train-Acc:0.775\n",
            "I:60 Test-Err:0.452 Test-Acc:0.7995 Train-Err:0.452 Train-Acc:0.799\n",
            "I:70 Test-Err:0.446 Test-Acc:0.803 Train-Err:0.453 Train-Acc:0.792\n",
            "I:80 Test-Err:0.451 Test-Acc:0.7968 Train-Err:0.457 Train-Acc:0.786\n",
            "I:90 Test-Err:0.447 Test-Acc:0.795 Train-Err:0.454 Train-Acc:0.799\n",
            "I:100 Test-Err:0.448 Test-Acc:0.793 Train-Err:0.447 Train-Acc:0.796\n",
            "I:110 Test-Err:0.441 Test-Acc:0.7943 Train-Err:0.426 Train-Acc:0.816\n",
            "I:120 Test-Err:0.442 Test-Acc:0.7966 Train-Err:0.431 Train-Acc:0.813\n",
            "I:130 Test-Err:0.441 Test-Acc:0.7906 Train-Err:0.434 Train-Acc:0.816\n",
            "I:140 Test-Err:0.447 Test-Acc:0.7874 Train-Err:0.437 Train-Acc:0.822\n",
            "I:150 Test-Err:0.443 Test-Acc:0.7899 Train-Err:0.414 Train-Acc:0.823\n",
            "I:160 Test-Err:0.438 Test-Acc:0.797 Train-Err:0.427 Train-Acc:0.811\n",
            "I:170 Test-Err:0.440 Test-Acc:0.7884 Train-Err:0.418 Train-Acc:0.828\n",
            "I:180 Test-Err:0.436 Test-Acc:0.7935 Train-Err:0.407 Train-Acc:0.834\n",
            "I:190 Test-Err:0.434 Test-Acc:0.7935 Train-Err:0.410 Train-Acc:0.831\n",
            "I:200 Test-Err:0.435 Test-Acc:0.7972 Train-Err:0.416 Train-Acc:0.829\n",
            "I:210 Test-Err:0.434 Test-Acc:0.7923 Train-Err:0.409 Train-Acc:0.83\n",
            "I:220 Test-Err:0.433 Test-Acc:0.8032 Train-Err:0.396 Train-Acc:0.832\n",
            "I:230 Test-Err:0.431 Test-Acc:0.8036 Train-Err:0.393 Train-Acc:0.853\n",
            "I:240 Test-Err:0.430 Test-Acc:0.8047 Train-Err:0.397 Train-Acc:0.844\n",
            "I:250 Test-Err:0.429 Test-Acc:0.8028 Train-Err:0.386 Train-Acc:0.843\n",
            "I:260 Test-Err:0.431 Test-Acc:0.8038 Train-Err:0.394 Train-Acc:0.843\n",
            "I:270 Test-Err:0.428 Test-Acc:0.8014 Train-Err:0.384 Train-Acc:0.845\n",
            "I:280 Test-Err:0.430 Test-Acc:0.8067 Train-Err:0.401 Train-Acc:0.846\n",
            "I:290 Test-Err:0.428 Test-Acc:0.7975 Train-Err:0.383 Train-Acc:0.851"
          ],
          "name": "stdout"
        }
      ]
    },
    {
      "metadata": {
        "id": "CY4X-XGvre_D",
        "colab_type": "code",
        "colab": {}
      },
      "cell_type": "code",
      "source": [
        ""
      ],
      "execution_count": 0,
      "outputs": []
    }
  ]
}