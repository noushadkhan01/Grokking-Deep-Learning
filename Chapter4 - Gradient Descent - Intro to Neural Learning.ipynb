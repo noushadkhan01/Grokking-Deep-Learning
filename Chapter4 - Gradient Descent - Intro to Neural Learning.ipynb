{
  "nbformat": 4,
  "nbformat_minor": 0,
  "metadata": {
    "colab": {
      "name": "Chapter4 - Gradient Descent - Intro to Neural Learning.ipynb",
      "version": "0.3.2",
      "provenance": [],
      "include_colab_link": true
    },
    "kernelspec": {
      "name": "python3",
      "display_name": "Python 3"
    },
    "accelerator": "GPU"
  },
  "cells": [
    {
      "cell_type": "markdown",
      "metadata": {
        "id": "view-in-github",
        "colab_type": "text"
      },
      "source": [
        "<a href=\"https://colab.research.google.com/github/noushadkhan01/Grokking-Deep-Learning/blob/master/Chapter4%20-%20Gradient%20Descent%20-%20Intro%20to%20Neural%20Learning.ipynb\" target=\"_parent\"><img src=\"https://colab.research.google.com/assets/colab-badge.svg\" alt=\"Open In Colab\"/></a>"
      ]
    },
    {
      "cell_type": "markdown",
      "metadata": {
        "id": "Bki5BwSSnD-j",
        "colab_type": "text"
      },
      "source": [
        "# Compare: Does our network make good predictions?"
      ]
    },
    {
      "cell_type": "code",
      "metadata": {
        "id": "TLJq2Og2nD-n",
        "colab_type": "code",
        "outputId": "5f25e510-2f66-4d89-a000-f391913e1c69",
        "colab": {
          "base_uri": "https://localhost:8080/",
          "height": 34
        }
      },
      "source": [
        "knob_weight = 0.5\n",
        "input = 0.5\n",
        "goal_pred = 0.8\n",
        "\n",
        "pred = input * knob_weight\n",
        "error = (pred - goal_pred) ** 2\n",
        "print(error)"
      ],
      "execution_count": 1,
      "outputs": [
        {
          "output_type": "stream",
          "text": [
            "0.30250000000000005\n"
          ],
          "name": "stdout"
        }
      ]
    },
    {
      "cell_type": "markdown",
      "metadata": {
        "id": "njdyBmUlnD-u",
        "colab_type": "text"
      },
      "source": [
        "# What's the Simplest Form of Neural Learning?"
      ]
    },
    {
      "cell_type": "markdown",
      "metadata": {
        "id": "kcd_bVZonD-v",
        "colab_type": "text"
      },
      "source": [
        "### Learning using the Hot and Cold Method"
      ]
    },
    {
      "cell_type": "code",
      "metadata": {
        "id": "6SdcgFo7nD-x",
        "colab_type": "code",
        "outputId": "62521af0-fbb9-4fe9-aeea-c390431eea04",
        "colab": {
          "base_uri": "https://localhost:8080/",
          "height": 34
        }
      },
      "source": [
        "# 1) An Empty Network\n",
        "\n",
        "weight = 0.1\n",
        "lr = 0.01\n",
        "\n",
        "def neural_network(input, weight):\n",
        "    prediction = input * weight\n",
        "    return prediction\n",
        "\n",
        "\n",
        "# 2) PREDICT: Making A Prediction And Evaluating Error\n",
        "\n",
        "number_of_toes = [8.5]\n",
        "win_or_lose_binary = [1] #(won!!!)\n",
        "\n",
        "input = number_of_toes[0]\n",
        "true = win_or_lose_binary[0]\n",
        "\n",
        "pred = neural_network(input,weight)\n",
        "error = (pred - true) ** 2\n",
        "print(error)"
      ],
      "execution_count": 2,
      "outputs": [
        {
          "output_type": "stream",
          "text": [
            "0.022499999999999975\n"
          ],
          "name": "stdout"
        }
      ]
    },
    {
      "cell_type": "code",
      "metadata": {
        "id": "n_ao4wj2nD-0",
        "colab_type": "code",
        "outputId": "710ef8de-a4ee-4aa9-afb5-6e58fd7a0582",
        "colab": {
          "base_uri": "https://localhost:8080/",
          "height": 34
        }
      },
      "source": [
        "# 3) COMPARE: Making A Prediction With a *Higher* Weight And Evaluating Error\n",
        "\n",
        "weight = 0.1 \n",
        "\n",
        "def neural_network(input, weight):\n",
        "    prediction = input * weight\n",
        "    return prediction\n",
        "\n",
        "number_of_toes = [8.5]\n",
        "win_or_lose_binary = [1] #(won!!!)\n",
        "\n",
        "input = number_of_toes[0]\n",
        "true = win_or_lose_binary[0]\n",
        "\n",
        "lr = 0.01\n",
        "p_up = neural_network(input, weight + lr)\n",
        "e_up = (p_up - true) ** 2\n",
        "print(e_up)"
      ],
      "execution_count": 3,
      "outputs": [
        {
          "output_type": "stream",
          "text": [
            "0.004224999999999993\n"
          ],
          "name": "stdout"
        }
      ]
    },
    {
      "cell_type": "code",
      "metadata": {
        "id": "RR_kI7ilnD-4",
        "colab_type": "code",
        "outputId": "68b355f8-9ada-4688-90ec-ebbd389fd6ce",
        "colab": {
          "base_uri": "https://localhost:8080/",
          "height": 34
        }
      },
      "source": [
        "# 4) COMPARE: Making A Prediction With a *Lower* Weight And Evaluating Error\n",
        "\n",
        "weight = 0.1 \n",
        "\n",
        "def neural_network(input, weight):\n",
        "    prediction = input * weight\n",
        "    return prediction\n",
        "\n",
        "number_of_toes = [8.5]\n",
        "win_or_lose_binary = [1] #(won!!!)\n",
        "\n",
        "input = number_of_toes[0]\n",
        "true = win_or_lose_binary[0]\n",
        "\n",
        "lr = 0.01\n",
        "p_dn = neural_network(input, weight - lr)\n",
        "e_dn = (p_dn - true) ** 2\n",
        "print(e_dn)"
      ],
      "execution_count": 4,
      "outputs": [
        {
          "output_type": "stream",
          "text": [
            "0.05522499999999994\n"
          ],
          "name": "stdout"
        }
      ]
    },
    {
      "cell_type": "markdown",
      "metadata": {
        "id": "1jVsZItUnD-7",
        "colab_type": "text"
      },
      "source": [
        "# Hot and Cold Learning"
      ]
    },
    {
      "cell_type": "code",
      "metadata": {
        "id": "FaLlOO9lnD-9",
        "colab_type": "code",
        "outputId": "d625cf52-5b0e-4c98-9d12-bf3aedeb5841",
        "colab": {
          "base_uri": "https://localhost:8080/",
          "height": 221
        }
      },
      "source": [
        "weight = 0.5\n",
        "input = 0.5\n",
        "goal_prediction = 0.8\n",
        "\n",
        "step_amount = 0.001\n",
        "n = 0\n",
        "R = 1101\n",
        "for iteration in range(R):\n",
        "\n",
        "    prediction = input * weight\n",
        "    error = (prediction - goal_prediction) ** 2\n",
        "    import sys\n",
        "    if n % 100 == 0:\n",
        "      print(f'{n}/{R - 1} == Error:-- {error}  Prediction :-- {prediction}')\n",
        "    \n",
        "    up_prediction = input * (weight + step_amount)\n",
        "    up_error = (goal_prediction - up_prediction) ** 2\n",
        "\n",
        "    n += 1\n",
        "\n",
        "    down_prediction = input * (weight - step_amount)\n",
        "    down_error = (goal_prediction - down_prediction) ** 2\n",
        "\n",
        "    if(down_error < up_error):\n",
        "        weight = weight - step_amount\n",
        "        \n",
        "    if(down_error > up_error):\n",
        "        weight = weight + step_amount"
      ],
      "execution_count": 14,
      "outputs": [
        {
          "output_type": "stream",
          "text": [
            "0/1100 == Error:-- 0.30250000000000005  Prediction :-- 0.25\n",
            "100/1100 == Error:-- 0.25  Prediction :-- 0.30000000000000004\n",
            "200/1100 == Error:-- 0.20249999999999996  Prediction :-- 0.3500000000000001\n",
            "300/1100 == Error:-- 0.15999999999999992  Prediction :-- 0.40000000000000013\n",
            "400/1100 == Error:-- 0.1224999999999999  Prediction :-- 0.4500000000000002\n",
            "500/1100 == Error:-- 0.0899999999999999  Prediction :-- 0.5000000000000002\n",
            "600/1100 == Error:-- 0.06250000000000266  Prediction :-- 0.5499999999999947\n",
            "700/1100 == Error:-- 0.04000000000000434  Prediction :-- 0.5999999999999892\n",
            "800/1100 == Error:-- 0.0225000000000049  Prediction :-- 0.6499999999999837\n",
            "900/1100 == Error:-- 0.01000000000000437  Prediction :-- 0.6999999999999782\n",
            "1000/1100 == Error:-- 0.0025000000000027357  Prediction :-- 0.7499999999999727\n",
            "1100/1100 == Error:-- 1.0799505792475652e-27  Prediction :-- 0.7999999999999672\n"
          ],
          "name": "stdout"
        }
      ]
    },
    {
      "cell_type": "markdown",
      "metadata": {
        "id": "NkEym0jfnD_D",
        "colab_type": "text"
      },
      "source": [
        "# Calculating Both Direction and Amount from Error"
      ]
    },
    {
      "cell_type": "code",
      "metadata": {
        "id": "N5CinjFBnD_E",
        "colab_type": "code",
        "outputId": "bea801da-3953-46b5-8227-e683de2d21b7",
        "colab": {
          "base_uri": "https://localhost:8080/",
          "height": 357
        }
      },
      "source": [
        "weight = 0.5\n",
        "goal_pred = 0.8\n",
        "input = 0.5\n",
        "\n",
        "for iteration in range(20):\n",
        "    pred = input * weight\n",
        "    error = (pred - goal_pred) ** 2\n",
        "    direction_and_amount = (pred - goal_pred) * input\n",
        "    weight = weight - direction_and_amount\n",
        "\n",
        "    print(\"Error:\" + str(error) + \" Prediction:\" + str(pred))"
      ],
      "execution_count": 19,
      "outputs": [
        {
          "output_type": "stream",
          "text": [
            "Error:0.30250000000000005 Prediction:0.25\n",
            "Error:0.17015625000000004 Prediction:0.3875\n",
            "Error:0.095712890625 Prediction:0.49062500000000003\n",
            "Error:0.05383850097656251 Prediction:0.56796875\n",
            "Error:0.03028415679931642 Prediction:0.6259765625\n",
            "Error:0.0170348381996155 Prediction:0.669482421875\n",
            "Error:0.00958209648728372 Prediction:0.70211181640625\n",
            "Error:0.005389929274097089 Prediction:0.7265838623046875\n",
            "Error:0.0030318352166796153 Prediction:0.7449378967285156\n",
            "Error:0.0017054073093822882 Prediction:0.7587034225463867\n",
            "Error:0.0009592916115275371 Prediction:0.76902756690979\n",
            "Error:0.0005396015314842384 Prediction:0.7767706751823426\n",
            "Error:0.000303525861459885 Prediction:0.7825780063867569\n",
            "Error:0.00017073329707118678 Prediction:0.7869335047900676\n",
            "Error:9.603747960254256e-05 Prediction:0.7902001285925507\n",
            "Error:5.402108227642978e-05 Prediction:0.7926500964444131\n",
            "Error:3.038685878049206e-05 Prediction:0.7944875723333098\n",
            "Error:1.7092608064027242e-05 Prediction:0.7958656792499823\n",
            "Error:9.614592036015323e-06 Prediction:0.7968992594374867\n",
            "Error:5.408208020258491e-06 Prediction:0.7976744445781151\n"
          ],
          "name": "stdout"
        }
      ]
    },
    {
      "cell_type": "markdown",
      "metadata": {
        "id": "-kfnftIJnD_J",
        "colab_type": "text"
      },
      "source": [
        "# One Iteration of Gradient Descent"
      ]
    },
    {
      "cell_type": "code",
      "metadata": {
        "id": "rTH58pEcnD_K",
        "colab_type": "code",
        "colab": {
          "base_uri": "https://localhost:8080/",
          "height": 51
        },
        "outputId": "ddac7171-dce7-46cb-c811-13ac144ef206"
      },
      "source": [
        "# 1) An Empty Network\n",
        "\n",
        "weight = 0.1 \n",
        "alpha = 0.01\n",
        "\n",
        "def neural_network(input, weight):\n",
        "    prediction = input * weight\n",
        "    return prediction\n",
        "\n",
        "# 2) PREDICT: Making A Prediction And Evaluating Error\n",
        "\n",
        "number_of_toes = [8.5]\n",
        "win_or_lose_binary = [1] # (won!!!)\n",
        "\n",
        "input = number_of_toes[0]\n",
        "goal_pred = win_or_lose_binary[0]\n",
        "\n",
        "pred = neural_network(input,weight)\n",
        "error = (pred - goal_pred) ** 2\n",
        "print(f'previous error : {error}')\n",
        "# 3) COMPARE: Calculating \"Node Delta\" and Putting it on the Output Node\n",
        "\n",
        "delta = pred - goal_pred\n",
        "\n",
        "# 4) LEARN: Calculating \"Weight Delta\" and Putting it on the Weight\n",
        "\n",
        "weight_delta = input * delta\n",
        "\n",
        "# 5) LEARN: Updating the Weight\n",
        "\n",
        "alpha = 0.01 # fixed before training\n",
        "weight -= weight_delta * alpha\n",
        "pred = neural_network(input, weight)\n",
        "error = (pred - goal_pred)**2\n",
        "print(f'current error : {error}')"
      ],
      "execution_count": 25,
      "outputs": [
        {
          "output_type": "stream",
          "text": [
            "previous error : 0.022499999999999975\n",
            "current error : 0.001732640625000002\n"
          ],
          "name": "stdout"
        }
      ]
    },
    {
      "cell_type": "markdown",
      "metadata": {
        "id": "zR9ey82snD_O",
        "colab_type": "text"
      },
      "source": [
        "# Learning is just Reducing Error"
      ]
    },
    {
      "cell_type": "code",
      "metadata": {
        "id": "rL7QUoGZMJEf",
        "colab_type": "code",
        "colab": {
          "base_uri": "https://localhost:8080/",
          "height": 85
        },
        "outputId": "4574a674-15a2-40e9-f211-b4a7616312b6"
      },
      "source": [
        "weight, goal_pred, input = (0.0, 0.8, 0.5)\n",
        "for iteration in range(4):\n",
        "    \n",
        "    pred = input * weight\n",
        "    error = (pred - goal_pred) ** 2\n",
        "    delta = pred - goal_pred\n",
        "    weight_delta = delta * input\n",
        "    weight -= weight_delta\n",
        "    print(\"Error:\" + str(error) + \" Prediction:\" + str(pred))"
      ],
      "execution_count": 21,
      "outputs": [
        {
          "output_type": "stream",
          "text": [
            "Error:0.6400000000000001 Prediction:0.0\n",
            "Error:0.3600000000000001 Prediction:0.2\n",
            "Error:0.2025 Prediction:0.35000000000000003\n",
            "Error:0.11390625000000001 Prediction:0.4625\n"
          ],
          "name": "stdout"
        }
      ]
    },
    {
      "cell_type": "markdown",
      "metadata": {
        "id": "BP9vCgR-nD_T",
        "colab_type": "text"
      },
      "source": [
        "# Let's Watch Several Steps of Learning"
      ]
    },
    {
      "cell_type": "code",
      "metadata": {
        "id": "6EqNohuXnD_U",
        "colab_type": "code",
        "outputId": "8390d8f2-77f1-4ef6-af38-93d38eeda952",
        "colab": {
          "base_uri": "https://localhost:8080/",
          "height": 289
        }
      },
      "source": [
        "weight, goal_pred, input = (0.0, 0.8, 1.1)\n",
        "\n",
        "for iteration in range(4):\n",
        "    print(\"-----\\nWeight:\" + str(weight))\n",
        "    pred = input * weight\n",
        "    error = (pred - goal_pred) ** 2\n",
        "    delta = pred - goal_pred\n",
        "    weight_delta = delta * input\n",
        "    weight = weight - weight_delta\n",
        "    print(\"Error:\" + str(error) + \" Prediction:\" + str(pred))\n",
        "    print(\"Delta:\" + str(delta) + \" Weight Delta:\" + str(weight_delta))"
      ],
      "execution_count": 26,
      "outputs": [
        {
          "output_type": "stream",
          "text": [
            "-----\n",
            "Weight:0.0\n",
            "Error:0.6400000000000001 Prediction:0.0\n",
            "Delta:-0.8 Weight Delta:-0.8800000000000001\n",
            "-----\n",
            "Weight:0.8800000000000001\n",
            "Error:0.02822400000000005 Prediction:0.9680000000000002\n",
            "Delta:0.16800000000000015 Weight Delta:0.1848000000000002\n",
            "-----\n",
            "Weight:0.6951999999999999\n",
            "Error:0.0012446784000000064 Prediction:0.76472\n",
            "Delta:-0.03528000000000009 Weight Delta:-0.0388080000000001\n",
            "-----\n",
            "Weight:0.734008\n",
            "Error:5.4890317439999896e-05 Prediction:0.8074088\n",
            "Delta:0.007408799999999993 Weight Delta:0.008149679999999992\n"
          ],
          "name": "stdout"
        }
      ]
    },
    {
      "cell_type": "markdown",
      "metadata": {
        "id": "GSNjVlwDnD_Y",
        "colab_type": "text"
      },
      "source": [
        "# Why does this work? What really is weight_delta?"
      ]
    },
    {
      "cell_type": "code",
      "metadata": {
        "id": "nIsQYPC9nD_Z",
        "colab_type": "code",
        "outputId": "ed5b8355-812e-4c77-9e12-560b094a18aa",
        "colab": {
          "base_uri": "https://localhost:8080/",
          "height": 357
        }
      },
      "source": [
        "weight = 0.5\n",
        "goal_pred = 0.8\n",
        "input = 0.5\n",
        "\n",
        "for iteration in range(20):\n",
        "    pred = input * weight\n",
        "    error = (pred - goal_pred) ** 2\n",
        "    direction_and_amount = (pred - goal_pred) * input\n",
        "    weight = weight - direction_and_amount\n",
        "\n",
        "    print(\"Error:\" + str(error) + \" Prediction:\" + str(pred))"
      ],
      "execution_count": 27,
      "outputs": [
        {
          "output_type": "stream",
          "text": [
            "Error:0.30250000000000005 Prediction:0.25\n",
            "Error:0.17015625000000004 Prediction:0.3875\n",
            "Error:0.095712890625 Prediction:0.49062500000000003\n",
            "Error:0.05383850097656251 Prediction:0.56796875\n",
            "Error:0.03028415679931642 Prediction:0.6259765625\n",
            "Error:0.0170348381996155 Prediction:0.669482421875\n",
            "Error:0.00958209648728372 Prediction:0.70211181640625\n",
            "Error:0.005389929274097089 Prediction:0.7265838623046875\n",
            "Error:0.0030318352166796153 Prediction:0.7449378967285156\n",
            "Error:0.0017054073093822882 Prediction:0.7587034225463867\n",
            "Error:0.0009592916115275371 Prediction:0.76902756690979\n",
            "Error:0.0005396015314842384 Prediction:0.7767706751823426\n",
            "Error:0.000303525861459885 Prediction:0.7825780063867569\n",
            "Error:0.00017073329707118678 Prediction:0.7869335047900676\n",
            "Error:9.603747960254256e-05 Prediction:0.7902001285925507\n",
            "Error:5.402108227642978e-05 Prediction:0.7926500964444131\n",
            "Error:3.038685878049206e-05 Prediction:0.7944875723333098\n",
            "Error:1.7092608064027242e-05 Prediction:0.7958656792499823\n",
            "Error:9.614592036015323e-06 Prediction:0.7968992594374867\n",
            "Error:5.408208020258491e-06 Prediction:0.7976744445781151\n"
          ],
          "name": "stdout"
        }
      ]
    },
    {
      "cell_type": "markdown",
      "metadata": {
        "id": "KVoksDzbnD_c",
        "colab_type": "text"
      },
      "source": [
        "# How to use a Derivative to Learn"
      ]
    },
    {
      "cell_type": "code",
      "metadata": {
        "id": "WZl5uyKNnD_e",
        "colab_type": "code",
        "outputId": "8fe6ec02-afcf-43a3-bbf5-d938a87a0518",
        "colab": {
          "base_uri": "https://localhost:8080/",
          "height": 85
        }
      },
      "source": [
        "weight = 0.0\n",
        "goal_pred = 0.8\n",
        "input = 1.1\n",
        "\n",
        "for iteration in range(4):\n",
        "    pred = input * weight\n",
        "    error = (pred - goal_pred) ** 2\n",
        "    delta = pred - goal_pred\n",
        "    weight_delta = delta * input\n",
        "    weight -= weight_delta\n",
        "\n",
        "    print(\"Error:\" + str(error) + \" Prediction:\" + str(pred))"
      ],
      "execution_count": 28,
      "outputs": [
        {
          "output_type": "stream",
          "text": [
            "Error:0.6400000000000001 Prediction:0.0\n",
            "Error:0.02822400000000005 Prediction:0.9680000000000002\n",
            "Error:0.0012446784000000064 Prediction:0.76472\n",
            "Error:5.4890317439999896e-05 Prediction:0.8074088\n"
          ],
          "name": "stdout"
        }
      ]
    },
    {
      "cell_type": "markdown",
      "metadata": {
        "id": "pBsVxTqInD_i",
        "colab_type": "text"
      },
      "source": [
        "# Breaking Gradient Descent"
      ]
    },
    {
      "cell_type": "code",
      "metadata": {
        "id": "0fCsTYyUnD_l",
        "colab_type": "code",
        "outputId": "8fedae1d-b750-403e-82f6-1d288980129a",
        "colab": {
          "base_uri": "https://localhost:8080/",
          "height": 357
        }
      },
      "source": [
        "weight = 0.5\n",
        "goal_pred = 0.8\n",
        "input = 0.5\n",
        "\n",
        "for iteration in range(20):\n",
        "    pred = input * weight\n",
        "    error = (pred - goal_pred) ** 2\n",
        "    delta = pred - goal_pred\n",
        "    weight_delta = input * delta\n",
        "    weight -= weight_delta\n",
        "    print(\"Error:\" + str(error) + \" Prediction:\" + str(pred))"
      ],
      "execution_count": 29,
      "outputs": [
        {
          "output_type": "stream",
          "text": [
            "Error:0.30250000000000005 Prediction:0.25\n",
            "Error:0.17015625000000004 Prediction:0.3875\n",
            "Error:0.095712890625 Prediction:0.49062500000000003\n",
            "Error:0.05383850097656251 Prediction:0.56796875\n",
            "Error:0.03028415679931642 Prediction:0.6259765625\n",
            "Error:0.0170348381996155 Prediction:0.669482421875\n",
            "Error:0.00958209648728372 Prediction:0.70211181640625\n",
            "Error:0.005389929274097089 Prediction:0.7265838623046875\n",
            "Error:0.0030318352166796153 Prediction:0.7449378967285156\n",
            "Error:0.0017054073093822882 Prediction:0.7587034225463867\n",
            "Error:0.0009592916115275371 Prediction:0.76902756690979\n",
            "Error:0.0005396015314842384 Prediction:0.7767706751823426\n",
            "Error:0.000303525861459885 Prediction:0.7825780063867569\n",
            "Error:0.00017073329707118678 Prediction:0.7869335047900676\n",
            "Error:9.603747960254256e-05 Prediction:0.7902001285925507\n",
            "Error:5.402108227642978e-05 Prediction:0.7926500964444131\n",
            "Error:3.038685878049206e-05 Prediction:0.7944875723333098\n",
            "Error:1.7092608064027242e-05 Prediction:0.7958656792499823\n",
            "Error:9.614592036015323e-06 Prediction:0.7968992594374867\n",
            "Error:5.408208020258491e-06 Prediction:0.7976744445781151\n"
          ],
          "name": "stdout"
        }
      ]
    },
    {
      "cell_type": "markdown",
      "metadata": {
        "id": "-hTrBfD-oabO",
        "colab_type": "text"
      },
      "source": [
        "# Problem in this method:-- \n",
        "\n",
        "**problem arise when the input vector contains values greater than 1**"
      ]
    },
    {
      "cell_type": "code",
      "metadata": {
        "id": "OFw0pS5GpA3y",
        "colab_type": "code",
        "colab": {}
      },
      "source": [
        "import pandas as pd\n",
        "import numpy as np"
      ],
      "execution_count": 0,
      "outputs": []
    },
    {
      "cell_type": "code",
      "metadata": {
        "id": "0sAcXEwAnD_q",
        "colab_type": "code",
        "outputId": "b659f889-21f8-4368-b3a1-f5a4594587a3",
        "colab": {
          "base_uri": "https://localhost:8080/",
          "height": 357
        }
      },
      "source": [
        "# Now let's break it:\n",
        "\n",
        "weight = 0.5\n",
        "goal_pred = 0.8\n",
        "input = 2\n",
        "from sklearn.preprocessing import MinMaxScaler\n",
        "df = pd.DataFrame(columns = ['Weight', 'Prediction', 'Errror', 'Weight_delta'])\n",
        "for iteration in range(20):\n",
        "    pred = input * weight\n",
        "    error = (pred - goal_pred) ** 2\n",
        "    delta = pred - goal_pred\n",
        "    weight_delta = input * delta\n",
        "    print(f'weight = {weight}, ----- error = {error} ----, weight_delta = {weight_delta}, -- ' + \" -- Prediction:\" + str(pred))\n",
        "    weight = weight - weight_delta\n"
      ],
      "execution_count": 31,
      "outputs": [
        {
          "output_type": "stream",
          "text": [
            "weight = 0.5, ----- error = 0.03999999999999998 ----, weight_delta = 0.3999999999999999, --  -- Prediction:1.0\n",
            "weight = 0.10000000000000009, ----- error = 0.3599999999999998 ----, weight_delta = -1.1999999999999997, --  -- Prediction:0.20000000000000018\n",
            "weight = 1.2999999999999998, ----- error = 3.2399999999999984 ----, weight_delta = 3.599999999999999, --  -- Prediction:2.5999999999999996\n",
            "weight = -2.2999999999999994, ----- error = 29.159999999999986 ----, weight_delta = -10.799999999999997, --  -- Prediction:-4.599999999999999\n",
            "weight = 8.499999999999998, ----- error = 262.4399999999999 ----, weight_delta = 32.39999999999999, --  -- Prediction:16.999999999999996\n",
            "weight = -23.89999999999999, ----- error = 2361.959999999998 ----, weight_delta = -97.19999999999996, --  -- Prediction:-47.79999999999998\n",
            "weight = 73.29999999999997, ----- error = 21257.639999999978 ----, weight_delta = 291.59999999999985, --  -- Prediction:146.59999999999994\n",
            "weight = -218.2999999999999, ----- error = 191318.75999999983 ----, weight_delta = -874.7999999999996, --  -- Prediction:-436.5999999999998\n",
            "weight = 656.4999999999998, ----- error = 1721868.839999999 ----, weight_delta = 2624.399999999999, --  -- Prediction:1312.9999999999995\n",
            "weight = -1967.8999999999994, ----- error = 15496819.559999991 ----, weight_delta = -7873.199999999998, --  -- Prediction:-3935.799999999999\n",
            "weight = 5905.299999999998, ----- error = 139471376.03999993 ----, weight_delta = 23619.599999999995, --  -- Prediction:11810.599999999997\n",
            "weight = -17714.299999999996, ----- error = 1255242384.3599997 ----, weight_delta = -70858.79999999999, --  -- Prediction:-35428.59999999999\n",
            "weight = 53144.49999999999, ----- error = 11297181459.239996 ----, weight_delta = 212576.39999999997, --  -- Prediction:106288.99999999999\n",
            "weight = -159431.89999999997, ----- error = 101674633133.15994 ----, weight_delta = -637729.1999999998, --  -- Prediction:-318863.79999999993\n",
            "weight = 478297.2999999999, ----- error = 915071698198.4395 ----, weight_delta = 1913187.5999999994, --  -- Prediction:956594.5999999997\n",
            "weight = -1434890.2999999996, ----- error = 8235645283785.954 ----, weight_delta = -5739562.799999998, --  -- Prediction:-2869780.599999999\n",
            "weight = 4304672.499999998, ----- error = 74120807554073.56 ----, weight_delta = 17218688.39999999, --  -- Prediction:8609344.999999996\n",
            "weight = -12914015.899999993, ----- error = 667087267986662.1 ----, weight_delta = -51656065.19999997, --  -- Prediction:-25828031.799999986\n",
            "weight = 38742049.29999998, ----- error = 6003785411879960.0 ----, weight_delta = 154968195.59999993, --  -- Prediction:77484098.59999996\n",
            "weight = -116226146.29999995, ----- error = 5.403406870691965e+16 ----, weight_delta = -464904586.79999983, --  -- Prediction:-232452292.5999999\n"
          ],
          "name": "stdout"
        }
      ]
    },
    {
      "cell_type": "markdown",
      "metadata": {
        "id": "EtbfKbRhshDo",
        "colab_type": "text"
      },
      "source": [
        "# Gradient Descent\n",
        "**Solution of upper problems**"
      ]
    },
    {
      "cell_type": "code",
      "metadata": {
        "id": "ILG1ynBAnD_0",
        "colab_type": "code",
        "outputId": "d70e7dbf-36f0-4497-8734-1a012f0503e7",
        "colab": {
          "base_uri": "https://localhost:8080/",
          "height": 357
        }
      },
      "source": [
        "weight = 0.5\n",
        "goal_pred = 0.8\n",
        "input = 2\n",
        "# alpha will minimize the weights\n",
        "alpha = 0.1\n",
        "\n",
        "for iteration in range(20):\n",
        "    pred  = input * weight\n",
        "    error = (pred - goal_pred) ** 2\n",
        "    derivative = input * (pred - goal_pred)\n",
        "    weight_delta = derivative * alpha\n",
        "    print(f'weight = {weight}, ----- error = {error} ----, weight_delta = {weight_delta}, -- ' + \" -- Prediction:\" + str(pred))\n",
        "    weight = weight - (alpha * derivative)\n",
        "    "
      ],
      "execution_count": 32,
      "outputs": [
        {
          "output_type": "stream",
          "text": [
            "weight = 0.5, ----- error = 0.03999999999999998 ----, weight_delta = 0.039999999999999994, --  -- Prediction:1.0\n",
            "weight = 0.46, ----- error = 0.0144 ----, weight_delta = 0.024, --  -- Prediction:0.92\n",
            "weight = 0.436, ----- error = 0.005183999999999993 ----, weight_delta = 0.014399999999999991, --  -- Prediction:0.872\n",
            "weight = 0.42160000000000003, ----- error = 0.0018662400000000014 ----, weight_delta = 0.008640000000000004, --  -- Prediction:0.8432000000000001\n",
            "weight = 0.41296000000000005, ----- error = 0.0006718464000000028 ----, weight_delta = 0.0051840000000000115, --  -- Prediction:0.8259200000000001\n",
            "weight = 0.407776, ----- error = 0.00024186470400000033 ----, weight_delta = 0.0031104000000000023, --  -- Prediction:0.815552\n",
            "weight = 0.4046656, ----- error = 8.70712934399997e-05 ----, weight_delta = 0.0018662399999999969, --  -- Prediction:0.8093312\n",
            "weight = 0.40279936, ----- error = 3.134566563839939e-05 ----, weight_delta = 0.0011197439999999891, --  -- Prediction:0.80559872\n",
            "weight = 0.401679616, ----- error = 1.1284439629823931e-05 ----, weight_delta = 0.000671846399999998, --  -- Prediction:0.803359232\n",
            "weight = 0.4010077696, ----- error = 4.062398266736526e-06 ----, weight_delta = 0.00040310783999999435, --  -- Prediction:0.8020155392\n",
            "weight = 0.40060466176000004, ----- error = 1.4624633760252567e-06 ----, weight_delta = 0.00024186470400000548, --  -- Prediction:0.8012093235200001\n",
            "weight = 0.40036279705600003, ----- error = 5.264868153690924e-07 ----, weight_delta = 0.00014511882240000328, --  -- Prediction:0.8007255941120001\n",
            "weight = 0.40021767823360005, ----- error = 1.8953525353291194e-07 ----, weight_delta = 8.707129344001086e-05, --  -- Prediction:0.8004353564672001\n",
            "weight = 0.40013060694016006, ----- error = 6.82326912718715e-08 ----, weight_delta = 5.22427760640154e-05, --  -- Prediction:0.8002612138803201\n",
            "weight = 0.40007836416409603, ----- error = 2.456376885786678e-08 ----, weight_delta = 3.13456656384048e-05, --  -- Prediction:0.8001567283281921\n",
            "weight = 0.40004701849845764, ----- error = 8.842956788836216e-09 ----, weight_delta = 1.880739938304732e-05, --  -- Prediction:0.8000940369969153\n",
            "weight = 0.4000282110990746, ----- error = 3.1834644439835434e-09 ----, weight_delta = 1.1284439629832832e-05, --  -- Prediction:0.8000564221981492\n",
            "weight = 0.40001692665944477, ----- error = 1.1460471998340758e-09 ----, weight_delta = 6.770663777899699e-06, --  -- Prediction:0.8000338533188895\n",
            "weight = 0.40001015599566686, ----- error = 4.125769919393652e-10 ----, weight_delta = 4.0623982667353785e-06, --  -- Prediction:0.8000203119913337\n",
            "weight = 0.40000609359740014, ----- error = 1.485277170987127e-10 ----, weight_delta = 2.4374389600456682e-06, --  -- Prediction:0.8000121871948003\n"
          ],
          "name": "stdout"
        }
      ]
    },
    {
      "cell_type": "code",
      "metadata": {
        "id": "oFu6rI1SnD_6",
        "colab_type": "code",
        "colab": {}
      },
      "source": [
        ""
      ],
      "execution_count": 0,
      "outputs": []
    }
  ]
}