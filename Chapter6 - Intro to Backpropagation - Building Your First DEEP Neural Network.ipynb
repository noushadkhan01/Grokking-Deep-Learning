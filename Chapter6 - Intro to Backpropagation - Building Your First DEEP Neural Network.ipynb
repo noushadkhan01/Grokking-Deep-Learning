{
  "nbformat": 4,
  "nbformat_minor": 0,
  "metadata": {
    "colab": {
      "name": "Chapter6 - Intro to Backpropagation - Building Your First DEEP Neural Network.ipynb",
      "version": "0.3.2",
      "provenance": [],
      "include_colab_link": true
    },
    "kernelspec": {
      "name": "python3",
      "display_name": "Python 3"
    },
    "accelerator": "GPU"
  },
  "cells": [
    {
      "cell_type": "markdown",
      "metadata": {
        "id": "view-in-github",
        "colab_type": "text"
      },
      "source": [
        "<a href=\"https://colab.research.google.com/github/noushadkhan01/Grokking-Deep-Learning/blob/master/Chapter6%20-%20Intro%20to%20Backpropagation%20-%20Building%20Your%20First%20DEEP%20Neural%20Network.ipynb\" target=\"_parent\"><img src=\"https://colab.research.google.com/assets/colab-badge.svg\" alt=\"Open In Colab\"/></a>"
      ]
    },
    {
      "cell_type": "markdown",
      "metadata": {
        "id": "lIDCVRK7fe4b",
        "colab_type": "text"
      },
      "source": [
        "# Creating a Matrix or Two in Python"
      ]
    },
    {
      "cell_type": "code",
      "metadata": {
        "id": "8x3Lxf8Kfn_k",
        "colab_type": "code",
        "outputId": "03c17b97-32d6-4056-a7d1-82d7d6db03ba",
        "colab": {
          "base_uri": "https://localhost:8080/",
          "height": 357
        }
      },
      "source": [
        "import numpy as np\n",
        "weights = np.array([0.5,0.48,-0.7])\n",
        "alpha = 0.1\n",
        "\n",
        "streetlights = np.array( [ [ 1, 0, 1 ],\n",
        "                           [ 0, 1, 1 ],\n",
        "                           [ 0, 0, 1 ],\n",
        "                           [ 1, 1, 1 ],\n",
        "                           [ 0, 1, 1 ],\n",
        "                           [ 1, 0, 1 ] ] )\n",
        "\n",
        "walk_vs_stop = np.array( [ 0, 1, 0, 1, 1, 0 ] )\n",
        "\n",
        "input = streetlights[0] # [1,0,1]\n",
        "goal_prediction = walk_vs_stop[0] # equals 0... i.e. \"stop\"\n",
        "\n",
        "for iteration in range(20):\n",
        "    prediction = input.dot(weights)\n",
        "    error = (goal_prediction - prediction) ** 2\n",
        "    delta = prediction - goal_prediction\n",
        "    weights = weights - (alpha * (input.T * delta))\t\n",
        "\n",
        "    print(\"Error:\" + str(error) + \" Prediction:\" + str(prediction))"
      ],
      "execution_count": 0,
      "outputs": [
        {
          "output_type": "stream",
          "text": [
            "Error:0.03999999999999998 Prediction:-0.19999999999999996\n",
            "Error:0.025599999999999973 Prediction:-0.15999999999999992\n",
            "Error:0.01638399999999997 Prediction:-0.1279999999999999\n",
            "Error:0.010485759999999964 Prediction:-0.10239999999999982\n",
            "Error:0.006710886399999962 Prediction:-0.08191999999999977\n",
            "Error:0.004294967295999976 Prediction:-0.06553599999999982\n",
            "Error:0.002748779069439994 Prediction:-0.05242879999999994\n",
            "Error:0.0017592186044416036 Prediction:-0.04194304000000004\n",
            "Error:0.0011258999068426293 Prediction:-0.03355443200000008\n",
            "Error:0.0007205759403792803 Prediction:-0.02684354560000002\n",
            "Error:0.0004611686018427356 Prediction:-0.021474836479999926\n",
            "Error:0.0002951479051793508 Prediction:-0.01717986918399994\n",
            "Error:0.00018889465931478573 Prediction:-0.013743895347199997\n",
            "Error:0.00012089258196146188 Prediction:-0.010995116277759953\n",
            "Error:7.737125245533561e-05 Prediction:-0.008796093022207963\n",
            "Error:4.951760157141604e-05 Prediction:-0.007036874417766459\n",
            "Error:3.169126500570676e-05 Prediction:-0.0056294995342132115\n",
            "Error:2.028240960365233e-05 Prediction:-0.004503599627370569\n",
            "Error:1.298074214633813e-05 Prediction:-0.003602879701896544\n",
            "Error:8.307674973656916e-06 Prediction:-0.002882303761517324\n"
          ],
          "name": "stdout"
        }
      ]
    },
    {
      "cell_type": "markdown",
      "metadata": {
        "id": "IImPYM7Wfe4m",
        "colab_type": "text"
      },
      "source": [
        "## Building Our Neural Network"
      ]
    },
    {
      "cell_type": "code",
      "metadata": {
        "id": "6blHcZrIfe4n",
        "colab_type": "code",
        "outputId": "02288d1b-b60b-4b60-c1bc-a5f9432e2e79",
        "colab": {
          "base_uri": "https://localhost:8080/",
          "height": 85
        }
      },
      "source": [
        "import numpy as np\n",
        "\n",
        "a = np.array([0,1,2,1])\n",
        "b = np.array([2,2,2,3])\n",
        "\n",
        "print(a*b) #elementwise multiplication\n",
        "print(a+b) #elementwise addition\n",
        "print(a * 0.5) # vector-scalar multiplication\n",
        "print(a + 0.5) # vector-scalar addition"
      ],
      "execution_count": 0,
      "outputs": [
        {
          "output_type": "stream",
          "text": [
            "[0 2 4 3]\n",
            "[2 3 4 4]\n",
            "[0.  0.5 1.  0.5]\n",
            "[0.5 1.5 2.5 1.5]\n"
          ],
          "name": "stdout"
        }
      ]
    },
    {
      "cell_type": "markdown",
      "metadata": {
        "id": "rILPt-sTfe4t",
        "colab_type": "text"
      },
      "source": [
        "# Learning the whole dataset!"
      ]
    },
    {
      "cell_type": "code",
      "metadata": {
        "id": "90P9DYfffe4u",
        "colab_type": "code",
        "outputId": "1fd3efff-113d-4cf1-bb9d-98a6afd7da60",
        "colab": {
          "base_uri": "https://localhost:8080/",
          "height": 340
        }
      },
      "source": [
        "import numpy as np\n",
        "#its 1d numpy array\n",
        "weights = np.array([[0.5,0.48,-0.7]]).T\n",
        "alpha = 0.1\n",
        "\n",
        "streetlights = np.array( [[ 1, 0, 1 ],\n",
        "                          [ 0, 1, 1 ],\n",
        "                          [ 0, 0, 1 ],\n",
        "                          [ 1, 1, 1 ],\n",
        "                          [ 0, 1, 1 ],\n",
        "                          [ 1, 0, 1 ] ] )\n",
        "\n",
        "walk_vs_stop = np.array([[ 0, 1, 0, 1, 1, 0 ]]).T\n",
        "goal_prediction = walk_vs_stop # equals 0... i.e. \"stop\"\n",
        "epochs = 40\n",
        "n = 1\n",
        "for epoch in range(epochs):\n",
        "    error_for_all_lights = 0\n",
        "    for row_index in range(len(walk_vs_stop)):\n",
        "        #it will get 1-d numpy arry\n",
        "        input = streetlights[row_index:row_index + 1, :]\n",
        "        \n",
        "        goal_prediction = walk_vs_stop[row_index:row_index + 1, :]\n",
        "        \n",
        "        #it is a 1-d array of shape (1, 1)\n",
        "        prediction = input @ weights\n",
        "        \n",
        "        error = (goal_prediction - prediction) ** 2\n",
        "        error = np.sum(error)\n",
        "        error_for_all_lights += error\n",
        "        \n",
        "        delta = prediction - goal_prediction\n",
        "        weights = weights - (alpha * (input.T * delta))\n",
        "    if n % 10 == 0:\n",
        "      print('-'*80)\n",
        "      print(f'Iteration No.:-- {epoch + 1}')\n",
        "      print('-'*40)\n",
        "      print(f'error at epochs {n} / {epochs} is {error_for_all_lights}')\n",
        "    n += 1\n",
        "print('-'*40)\n",
        "print(f'Total Error for Iteration {epochs}:-- {error_for_all_lights}')\n",
        "print('-'*80)"
      ],
      "execution_count": 0,
      "outputs": [
        {
          "output_type": "stream",
          "text": [
            "--------------------------------------------------------------------------------\n",
            "Iteration No.:-- 10\n",
            "----------------------------------------\n",
            "error at epochs 10 / 40 is 0.05564914990717743\n",
            "--------------------------------------------------------------------------------\n",
            "Iteration No.:-- 20\n",
            "----------------------------------------\n",
            "error at epochs 20 / 40 is 0.009117233405426495\n",
            "--------------------------------------------------------------------------------\n",
            "Iteration No.:-- 30\n",
            "----------------------------------------\n",
            "error at epochs 30 / 40 is 0.0021806703520253884\n",
            "--------------------------------------------------------------------------------\n",
            "Iteration No.:-- 40\n",
            "----------------------------------------\n",
            "error at epochs 40 / 40 is 0.00053373677328488\n",
            "----------------------------------------\n",
            "Total Error for Iteration 40:-- 0.00053373677328488\n",
            "--------------------------------------------------------------------------------\n"
          ],
          "name": "stdout"
        }
      ]
    },
    {
      "cell_type": "markdown",
      "metadata": {
        "id": "iEzEx2yvfe4y",
        "colab_type": "text"
      },
      "source": [
        "# Our First \"Deep\" Neural Network"
      ]
    },
    {
      "cell_type": "code",
      "metadata": {
        "id": "rzLFyT4X735n",
        "colab_type": "code",
        "colab": {}
      },
      "source": [
        "def initialize_weights(shape, **kwargs):\n",
        "  import numpy as np\n",
        "  mean = kwargs.get('mean')\n",
        "  sigma = kwargs.get('sigma')\n",
        "  random_state = kwargs.get('random_state')\n",
        "  if not mean:\n",
        "    mean = 0\n",
        "  if not sigma:\n",
        "    sigma = 1\n",
        "  if random_state:\n",
        "    np.random.seed(random_state)\n",
        "  rows, cols = shape\n",
        "  return sigma * np.random.randn(rows, cols) + mean"
      ],
      "execution_count": 0,
      "outputs": []
    },
    {
      "cell_type": "markdown",
      "metadata": {
        "id": "T07FifzY-DlH",
        "colab_type": "text"
      },
      "source": [
        "#Online Learning or StochasticGradientDescent\n",
        "**it changes weights for every sample in the dataset**"
      ]
    },
    {
      "cell_type": "code",
      "metadata": {
        "id": "89vNh8IIsyDR",
        "colab_type": "code",
        "outputId": "e2573e5a-f357-4020-da8d-49f781b09690",
        "colab": {
          "base_uri": "https://localhost:8080/",
          "height": 289
        }
      },
      "source": [
        "!git clone https://github.com/noushadkhan01/my_methods/\n",
        "%cd my_methods\n",
        "!ls"
      ],
      "execution_count": 0,
      "outputs": [
        {
          "output_type": "stream",
          "text": [
            "Cloning into 'my_methods'...\n",
            "remote: Enumerating objects: 35, done.\u001b[K\n",
            "remote: Counting objects: 100% (35/35), done.\u001b[K\n",
            "remote: Compressing objects: 100% (35/35), done.\u001b[K\n",
            "remote: Total 342 (delta 17), reused 0 (delta 0), pack-reused 307\u001b[K\n",
            "Receiving objects: 100% (342/342), 89.39 KiB | 324.00 KiB/s, done.\n",
            "Resolving deltas: 100% (202/202), done.\n",
            "/content/my_methods\n",
            "choose_best_classifier.py\t      my_global_variables.py\n",
            "choose_best_regressor.py\t      my_roc_curve.py\n",
            "choose_optimal_number_of_clusters.py  plot_text.py\n",
            "get_cross_validation.py\t\t      print_model_results.py\n",
            "initialize_weights.py\t\t      README.md\n",
            "my_backward_propagation.py\t      sgd_neural_net.py\n",
            "my_cap_curve.py\t\t\t      visualise_classifier_performance.py\n",
            "my_dummy_variable_creator.py\n"
          ],
          "name": "stdout"
        }
      ]
    },
    {
      "cell_type": "code",
      "metadata": {
        "id": "tJb5wZavs91J",
        "colab_type": "code",
        "colab": {}
      },
      "source": [
        "from sgd_neural_net import SGDNeuralNet"
      ],
      "execution_count": 0,
      "outputs": []
    },
    {
      "cell_type": "code",
      "metadata": {
        "id": "Cfel_wIl_HPp",
        "colab_type": "code",
        "colab": {}
      },
      "source": [
        "import numpy as np\n",
        "streetlights = np.array( [[ 1, 0, 1 ],\n",
        "                          [ 0, 1, 1 ],\n",
        "                          [ 0, 0, 1 ],\n",
        "                          [ 1, 1, 1 ] ] )\n",
        "\n",
        "X = streetlights\n",
        "\n",
        "#we are transposing it because it's two dimensional array for our output we need row vector, corresponding to every row\n",
        "y = np.array([[ 1, 1, 0, 0]]).T"
      ],
      "execution_count": 0,
      "outputs": []
    },
    {
      "cell_type": "code",
      "metadata": {
        "id": "1bJWHg0p-lL7",
        "colab_type": "code",
        "outputId": "ab484b8c-e2c2-4b22-93ce-7bb7332b6d2c",
        "colab": {
          "base_uri": "https://localhost:8080/",
          "height": 187
        }
      },
      "source": [
        "model = SGDNeuralNet()\n",
        "model.dense_layer(4, activation = 'relu')\n",
        "model.dense_layer(1)\n",
        "model.fit(X, y, epochs = 400, alpha = .2, n_percent = 40, random_state = 1)"
      ],
      "execution_count": 0,
      "outputs": [
        {
          "output_type": "stream",
          "text": [
            "Iteration no. 40 / 400, error is 0.004548996025790478\n",
            "Iteration no. 80 / 400, error is 5.625829643928041e-07\n",
            "Iteration no. 120 / 400, error is 5.2623596859565544e-11\n",
            "Iteration no. 160 / 400, error is 4.907590822791008e-15\n",
            "Iteration no. 200 / 400, error is 4.576605896771957e-19\n",
            "Iteration no. 240 / 400, error is 4.2679331372396077e-23\n",
            "Iteration no. 280 / 400, error is 3.973617974053911e-27\n",
            "Iteration no. 320 / 400, error is 5.636726228013253e-31\n",
            "Iteration no. 360 / 400, error is 2.5069917988287956e-32\n",
            "Iteration no. 400 / 400, error is 2.465293696442651e-32\n"
          ],
          "name": "stdout"
        }
      ]
    },
    {
      "cell_type": "code",
      "metadata": {
        "id": "KFE2-VBIl3ST",
        "colab_type": "code",
        "outputId": "4db99a77-3ee9-4b3f-a27f-4f6a83fa5a2d",
        "colab": {
          "base_uri": "https://localhost:8080/",
          "height": 34
        }
      },
      "source": [
        "model.total_error"
      ],
      "execution_count": 0,
      "outputs": [
        {
          "output_type": "execute_result",
          "data": {
            "text/plain": [
              "array([[2.4652937e-32]])"
            ]
          },
          "metadata": {
            "tags": []
          },
          "execution_count": 6
        }
      ]
    },
    {
      "cell_type": "code",
      "metadata": {
        "id": "bPzR6Eypl5QJ",
        "colab_type": "code",
        "outputId": "2f189603-a714-4370-9b8a-f747b86a7afc",
        "colab": {
          "base_uri": "https://localhost:8080/",
          "height": 34
        }
      },
      "source": [
        "model.n_dense_layers"
      ],
      "execution_count": 0,
      "outputs": [
        {
          "output_type": "execute_result",
          "data": {
            "text/plain": [
              "2"
            ]
          },
          "metadata": {
            "tags": []
          },
          "execution_count": 7
        }
      ]
    },
    {
      "cell_type": "code",
      "metadata": {
        "id": "WfMxImY5l9tt",
        "colab_type": "code",
        "outputId": "44ee988b-7c60-4d00-b8c1-120950f63b0f",
        "colab": {
          "base_uri": "https://localhost:8080/",
          "height": 85
        }
      },
      "source": [
        "model.predict(X)"
      ],
      "execution_count": 0,
      "outputs": [
        {
          "output_type": "execute_result",
          "data": {
            "text/plain": [
              "array([[1.00000000e+00],\n",
              "       [1.00000000e+00],\n",
              "       [9.55760196e-17],\n",
              "       [0.00000000e+00]])"
            ]
          },
          "metadata": {
            "tags": []
          },
          "execution_count": 8
        }
      ]
    },
    {
      "cell_type": "code",
      "metadata": {
        "id": "Bd3Nw9vTsU7J",
        "colab_type": "code",
        "outputId": "6bdee8b5-9bfa-487a-ac7e-c3d9d55e98e8",
        "colab": {
          "base_uri": "https://localhost:8080/",
          "height": 34
        }
      },
      "source": [
        "model.score(X, y)"
      ],
      "execution_count": 0,
      "outputs": [
        {
          "output_type": "execute_result",
          "data": {
            "text/plain": [
              "1.0"
            ]
          },
          "metadata": {
            "tags": []
          },
          "execution_count": 9
        }
      ]
    },
    {
      "cell_type": "code",
      "metadata": {
        "id": "j6VxuZJ0sap1",
        "colab_type": "code",
        "outputId": "f889136d-6ea1-42bf-a54a-274a285e9bad",
        "colab": {
          "base_uri": "https://localhost:8080/",
          "height": 34
        }
      },
      "source": [
        "model.mean_squared_error(X, y)"
      ],
      "execution_count": 0,
      "outputs": [
        {
          "output_type": "execute_result",
          "data": {
            "text/plain": [
              "5.365181793610349e-33"
            ]
          },
          "metadata": {
            "tags": []
          },
          "execution_count": 10
        }
      ]
    },
    {
      "cell_type": "markdown",
      "metadata": {
        "id": "pUsJGOXhUXkS",
        "colab_type": "text"
      },
      "source": [
        "##By Keras"
      ]
    },
    {
      "cell_type": "code",
      "metadata": {
        "id": "2MmQ88EGUa1x",
        "colab_type": "code",
        "colab": {
          "base_uri": "https://localhost:8080/",
          "height": 34
        },
        "outputId": "f6e19e04-dd11-4417-d542-6fc6493dec3a"
      },
      "source": [
        "import keras"
      ],
      "execution_count": 1,
      "outputs": [
        {
          "output_type": "stream",
          "text": [
            "Using TensorFlow backend.\n"
          ],
          "name": "stderr"
        }
      ]
    },
    {
      "cell_type": "code",
      "metadata": {
        "id": "-bJ2O86eWEBg",
        "colab_type": "code",
        "colab": {
          "base_uri": "https://localhost:8080/",
          "height": 649
        },
        "outputId": "f29f9246-02a1-43a8-d166-907a78a54893"
      },
      "source": [
        "!pip install tensorflow==2.0.0-beta1 "
      ],
      "execution_count": 6,
      "outputs": [
        {
          "output_type": "stream",
          "text": [
            "Collecting tensorflow==2.0.0-beta1\n",
            "\u001b[?25l  Downloading https://files.pythonhosted.org/packages/29/6c/2c9a5c4d095c63c2fb37d20def0e4f92685f7aee9243d6aae25862694fd1/tensorflow-2.0.0b1-cp36-cp36m-manylinux1_x86_64.whl (87.9MB)\n",
            "\u001b[K     |████████████████████████████████| 87.9MB 44.9MB/s \n",
            "\u001b[?25hRequirement already satisfied: absl-py>=0.7.0 in /usr/local/lib/python3.6/dist-packages (from tensorflow==2.0.0-beta1) (0.7.1)\n",
            "Requirement already satisfied: keras-applications>=1.0.6 in /usr/local/lib/python3.6/dist-packages (from tensorflow==2.0.0-beta1) (1.0.8)\n",
            "Requirement already satisfied: numpy<2.0,>=1.14.5 in /usr/local/lib/python3.6/dist-packages (from tensorflow==2.0.0-beta1) (1.16.4)\n",
            "Collecting tb-nightly<1.14.0a20190604,>=1.14.0a20190603 (from tensorflow==2.0.0-beta1)\n",
            "\u001b[?25l  Downloading https://files.pythonhosted.org/packages/a4/96/571b875cd81dda9d5dfa1422a4f9d749e67c0a8d4f4f0b33a4e5f5f35e27/tb_nightly-1.14.0a20190603-py3-none-any.whl (3.1MB)\n",
            "\u001b[K     |████████████████████████████████| 3.1MB 32.2MB/s \n",
            "\u001b[?25hRequirement already satisfied: google-pasta>=0.1.6 in /usr/local/lib/python3.6/dist-packages (from tensorflow==2.0.0-beta1) (0.1.7)\n",
            "Requirement already satisfied: wheel>=0.26 in /usr/local/lib/python3.6/dist-packages (from tensorflow==2.0.0-beta1) (0.33.4)\n",
            "Collecting tf-estimator-nightly<1.14.0.dev2019060502,>=1.14.0.dev2019060501 (from tensorflow==2.0.0-beta1)\n",
            "\u001b[?25l  Downloading https://files.pythonhosted.org/packages/32/dd/99c47dd007dcf10d63fd895611b063732646f23059c618a373e85019eb0e/tf_estimator_nightly-1.14.0.dev2019060501-py2.py3-none-any.whl (496kB)\n",
            "\u001b[K     |████████████████████████████████| 501kB 51.0MB/s \n",
            "\u001b[?25hRequirement already satisfied: termcolor>=1.1.0 in /usr/local/lib/python3.6/dist-packages (from tensorflow==2.0.0-beta1) (1.1.0)\n",
            "Requirement already satisfied: wrapt>=1.11.1 in /usr/local/lib/python3.6/dist-packages (from tensorflow==2.0.0-beta1) (1.11.2)\n",
            "Requirement already satisfied: protobuf>=3.6.1 in /usr/local/lib/python3.6/dist-packages (from tensorflow==2.0.0-beta1) (3.7.1)\n",
            "Requirement already satisfied: keras-preprocessing>=1.0.5 in /usr/local/lib/python3.6/dist-packages (from tensorflow==2.0.0-beta1) (1.1.0)\n",
            "Requirement already satisfied: six>=1.10.0 in /usr/local/lib/python3.6/dist-packages (from tensorflow==2.0.0-beta1) (1.12.0)\n",
            "Requirement already satisfied: gast>=0.2.0 in /usr/local/lib/python3.6/dist-packages (from tensorflow==2.0.0-beta1) (0.2.2)\n",
            "Requirement already satisfied: grpcio>=1.8.6 in /usr/local/lib/python3.6/dist-packages (from tensorflow==2.0.0-beta1) (1.15.0)\n",
            "Requirement already satisfied: astor>=0.6.0 in /usr/local/lib/python3.6/dist-packages (from tensorflow==2.0.0-beta1) (0.8.0)\n",
            "Requirement already satisfied: h5py in /usr/local/lib/python3.6/dist-packages (from keras-applications>=1.0.6->tensorflow==2.0.0-beta1) (2.8.0)\n",
            "Requirement already satisfied: markdown>=2.6.8 in /usr/local/lib/python3.6/dist-packages (from tb-nightly<1.14.0a20190604,>=1.14.0a20190603->tensorflow==2.0.0-beta1) (3.1.1)\n",
            "Requirement already satisfied: werkzeug>=0.11.15 in /usr/local/lib/python3.6/dist-packages (from tb-nightly<1.14.0a20190604,>=1.14.0a20190603->tensorflow==2.0.0-beta1) (0.15.5)\n",
            "Requirement already satisfied: setuptools>=41.0.0 in /usr/local/lib/python3.6/dist-packages (from tb-nightly<1.14.0a20190604,>=1.14.0a20190603->tensorflow==2.0.0-beta1) (41.0.1)\n",
            "Installing collected packages: tb-nightly, tf-estimator-nightly, tensorflow\n",
            "  Found existing installation: tensorflow 1.14.0\n",
            "    Uninstalling tensorflow-1.14.0:\n",
            "      Successfully uninstalled tensorflow-1.14.0\n",
            "Successfully installed tb-nightly-1.14.0a20190603 tensorflow-2.0.0b1 tf-estimator-nightly-1.14.0.dev2019060501\n"
          ],
          "name": "stdout"
        },
        {
          "output_type": "display_data",
          "data": {
            "application/vnd.colab-display-data+json": {
              "pip_warning": {
                "packages": [
                  "tensorboard",
                  "tensorflow",
                  "tensorflow_estimator"
                ]
              }
            }
          },
          "metadata": {
            "tags": []
          }
        }
      ]
    },
    {
      "cell_type": "code",
      "metadata": {
        "id": "1GSQGsaqWTOS",
        "colab_type": "code",
        "colab": {}
      },
      "source": [
        "import tensorflow as tf"
      ],
      "execution_count": 0,
      "outputs": []
    },
    {
      "cell_type": "code",
      "metadata": {
        "id": "DADQi2W1Wfpg",
        "colab_type": "code",
        "colab": {
          "base_uri": "https://localhost:8080/",
          "height": 34
        },
        "outputId": "e82ab68f-2f44-40d9-bc2f-438879fd1620"
      },
      "source": [
        "tf.__version__"
      ],
      "execution_count": 2,
      "outputs": [
        {
          "output_type": "execute_result",
          "data": {
            "text/plain": [
              "'2.0.0-beta1'"
            ]
          },
          "metadata": {
            "tags": []
          },
          "execution_count": 2
        }
      ]
    },
    {
      "cell_type": "code",
      "metadata": {
        "colab_type": "code",
        "id": "vA3dk08UWq-G",
        "colab": {}
      },
      "source": [
        "import numpy as np\n",
        "streetlights = np.array( [[ 1, 0, 1 ],\n",
        "                          [ 0, 1, 1 ],\n",
        "                          [ 0, 0, 1 ],\n",
        "                          [ 1, 1, 1 ] ] )\n",
        "\n",
        "X = streetlights\n",
        "\n",
        "#we are transposing it because it's two dimensional array for our output we need row vector, corresponding to every row\n",
        "y = np.array([[ 1, 1, 0, 0]]).T"
      ],
      "execution_count": 0,
      "outputs": []
    },
    {
      "cell_type": "code",
      "metadata": {
        "id": "eeyu3JbDVY4I",
        "colab_type": "code",
        "colab": {
          "base_uri": "https://localhost:8080/",
          "height": 34
        },
        "outputId": "c19b01d0-8f46-4fe3-ca68-b13df47c4903"
      },
      "source": [
        "X.shape, y.shape"
      ],
      "execution_count": 5,
      "outputs": [
        {
          "output_type": "execute_result",
          "data": {
            "text/plain": [
              "((4, 3), (4, 1))"
            ]
          },
          "metadata": {
            "tags": []
          },
          "execution_count": 5
        }
      ]
    },
    {
      "cell_type": "code",
      "metadata": {
        "id": "VeT3mMquUdwP",
        "colab_type": "code",
        "colab": {}
      },
      "source": [
        "model = tf.keras.Sequential([\n",
        "                          tf.keras.layers.Dense(units = 4, activation = tf.nn.relu, input_dim = X.shape[1]),\n",
        "                          tf.keras.layers.Dense(units = 1, activation = None),\n",
        "])"
      ],
      "execution_count": 0,
      "outputs": []
    },
    {
      "cell_type": "code",
      "metadata": {
        "id": "q2H27ezqUdoC",
        "colab_type": "code",
        "colab": {}
      },
      "source": [
        "model.compile(optimizer = 'adam', loss = 'binary_crossentropy', metrics = ['accuracy'])"
      ],
      "execution_count": 0,
      "outputs": []
    },
    {
      "cell_type": "code",
      "metadata": {
        "id": "5ma6UZe1UddI",
        "colab_type": "code",
        "colab": {
          "base_uri": "https://localhost:8080/",
          "height": 34
        },
        "outputId": "4ab97ab2-f657-4587-9390-2c9d18fb09ec"
      },
      "source": [
        "model.fit(X, y, batch_size = 1, epochs = 600, verbose = 0)"
      ],
      "execution_count": 23,
      "outputs": [
        {
          "output_type": "execute_result",
          "data": {
            "text/plain": [
              "<tensorflow.python.keras.callbacks.History at 0x7f5f0e1dde48>"
            ]
          },
          "metadata": {
            "tags": []
          },
          "execution_count": 23
        }
      ]
    },
    {
      "cell_type": "code",
      "metadata": {
        "id": "umN037opXafP",
        "colab_type": "code",
        "colab": {
          "base_uri": "https://localhost:8080/",
          "height": 51
        },
        "outputId": "456db9a1-53a1-44b5-b6ce-1668e777f5b0"
      },
      "source": [
        "model.evaluate(X, y)"
      ],
      "execution_count": 24,
      "outputs": [
        {
          "output_type": "stream",
          "text": [
            "\r4/4 [==============================] - 0s 4ms/sample - loss: 0.1097 - accuracy: 1.0000\n"
          ],
          "name": "stdout"
        },
        {
          "output_type": "execute_result",
          "data": {
            "text/plain": [
              "[0.10966472327709198, 1.0]"
            ]
          },
          "metadata": {
            "tags": []
          },
          "execution_count": 24
        }
      ]
    },
    {
      "cell_type": "markdown",
      "metadata": {
        "id": "SNdboH0ufe42",
        "colab_type": "text"
      },
      "source": [
        "## Backpropagation in Code"
      ]
    },
    {
      "cell_type": "code",
      "metadata": {
        "id": "rROF1LjVfe43",
        "colab_type": "code",
        "outputId": "17533b36-b41e-4929-ab5e-e218e368c261",
        "colab": {
          "base_uri": "https://localhost:8080/",
          "height": 119
        }
      },
      "source": [
        "import numpy as np\n",
        "\n",
        "\n",
        "np.random.seed(1)\n",
        "\n",
        "def relu(x):\n",
        "    return np.maximum(0, x)# returns x if x > 0\n",
        "                       # return 0 otherwise\n",
        "\n",
        "def relu2deriv(output):\n",
        "    return output > 0 # returns 1 for input > 0\n",
        "                    # return 0 otherwise\n",
        "alpha = 0.2\n",
        "hidden_size = 4\n",
        "X = streetlights\n",
        "y = walk_vs_stop\n",
        "#initialize weights for hidden layer 1 and output layer\n",
        "weights_0_1 = 2*np.random.random((3,hidden_size)) - 1\n",
        "weights_output = 2*np.random.random((hidden_size,1)) - 1\n",
        "for iteration in range(60):\n",
        "  output_layer_error = 0\n",
        "  for i in range(len(X)):\n",
        "    #get 2-D array for input layer\n",
        "    layer_0 = X[i:i+1]\n",
        "\n",
        "    #dot product of layer_0 and layer2\n",
        "    layer_1 = relu(np.dot(layer_0, weights_0_1))\n",
        "\n",
        "    #dot product of layer 2 and output layer\n",
        "    output_layer = np.dot(layer_1, weights_output) #it will return (1, 1) 2d array because we are doing separately for every row\n",
        "\n",
        "    #calculate error for every row and sum it\n",
        "    #its output layer\n",
        "    output_layer_error += np.sum((output_layer - y[i:i+1]) ** 2) #subtracting numpy array for input and output(it will return 2d array of shape (1, 1))\n",
        "\n",
        "    #we are calculating delta for every row separately in a loop so.......\n",
        "    output_layer_delta = (y[i:i+1] - output_layer)\n",
        "    \n",
        "    #layer1 delta is a corresponding multplication of weights of output layer and output_layer2\n",
        "    layer_1_delta = output_layer_delta*weights_output.T\n",
        "\n",
        "    weights_output += alpha * layer_1.T.dot(output_layer_delta)\n",
        "    \n",
        "    #we are multiplying weights by relu2deriv function because we need to get weight 0 which have zero contribution to output\n",
        "    #like if a value of layer1 is zero or less than 0 then it will not contribute to the output of layer2 so \n",
        "    #but if value fo layer1 from relu is greater than zero then it will contribute to the prediction or next layer\n",
        "    weights_0_1 += alpha * layer_0.T.dot(layer_1_delta)*relu2deriv(layer_1)\n",
        "  if(iteration % 10 == 9):\n",
        "    print(\"Error:\" + str(output_layer_error))"
      ],
      "execution_count": 0,
      "outputs": [
        {
          "output_type": "stream",
          "text": [
            "Error:0.6342311598444467\n",
            "Error:0.35838407676317513\n",
            "Error:0.0830183113303298\n",
            "Error:0.006467054957103705\n",
            "Error:0.0003292669000750734\n",
            "Error:1.5055622665134859e-05\n"
          ],
          "name": "stdout"
        }
      ]
    },
    {
      "cell_type": "markdown",
      "metadata": {
        "id": "XkinYzl9fe47",
        "colab_type": "text"
      },
      "source": [
        "## One Iteration of Backpropagation"
      ]
    },
    {
      "cell_type": "code",
      "metadata": {
        "id": "5EtR-wyTfe48",
        "colab_type": "code",
        "colab": {}
      },
      "source": [
        "import numpy as np\n",
        "\n",
        "np.random.seed(1)\n",
        "\n",
        "def relu(x):\n",
        "    return (x > 0) * x \n",
        "\n",
        "def relu2deriv(output):\n",
        "    return output>0 \n",
        "\n",
        "lights = np.array( [[ 1, 0, 1 ],\n",
        "                    [ 0, 1, 1 ],\n",
        "                    [ 0, 0, 1 ],\n",
        "                    [ 1, 1, 1 ] ] )\n",
        "\n",
        "walk_stop = np.array([[ 1, 1, 0, 0]]).T\n",
        "\n",
        "alpha = 0.2\n",
        "hidden_size = 3\n",
        "\n",
        "weights_0_1 = 2*np.random.random((3,hidden_size)) - 1\n",
        "weights_1_2 = 2*np.random.random((hidden_size,1)) - 1\n",
        "\n",
        "layer_0 = lights[0:1]\n",
        "layer_1 = np.dot(layer_0,weights_0_1)\n",
        "layer_1 = relu(layer_1)\n",
        "layer_2 = np.dot(layer_1,weights_1_2)\n",
        "\n",
        "error = (layer_2-walk_stop[0:1])**2\n",
        "\n",
        "layer_2_delta=(layer_2-walk_stop[0:1])\n",
        "\n",
        "layer_1_delta=layer_2_delta.dot(weights_1_2.T)\n",
        "layer_1_delta *= relu2deriv(layer_1)\n",
        "\n",
        "weight_delta_1_2 = layer_1.T.dot(layer_2_delta)\n",
        "weight_delta_0_1 = layer_0.T.dot(layer_1_delta)\n",
        "\n",
        "weights_1_2 -= alpha * weight_delta_1_2\n",
        "weights_0_1 -= alpha * weight_delta_0_1"
      ],
      "execution_count": 0,
      "outputs": []
    },
    {
      "cell_type": "markdown",
      "metadata": {
        "id": "LUpumw7Pfe5A",
        "colab_type": "text"
      },
      "source": [
        "### Putting it all Together"
      ]
    },
    {
      "cell_type": "code",
      "metadata": {
        "id": "vmCFsSUofe5B",
        "colab_type": "code",
        "outputId": "23d23391-7894-459a-da57-0e82a4585271",
        "colab": {
          "base_uri": "https://localhost:8080/",
          "height": 119
        }
      },
      "source": [
        "import numpy as np\n",
        "\n",
        "np.random.seed(1)\n",
        "\n",
        "def relu(x):\n",
        "    return (x > 0) * x # returns x if x > 0\n",
        "                       # return 0 otherwise\n",
        "\n",
        "def relu2deriv(output):\n",
        "    return output>0 # returns 1 for input > 0\n",
        "                    # return 0 otherwise\n",
        "\n",
        "streetlights = np.array( [[ 1, 0, 1 ],\n",
        "                          [ 0, 1, 1 ],\n",
        "                          [ 0, 0, 1 ],\n",
        "                          [ 1, 1, 1 ] ] )\n",
        "\n",
        "walk_vs_stop = np.array([[ 1, 1, 0, 0]]).T\n",
        "    \n",
        "alpha = 0.2\n",
        "hidden_size = 4\n",
        "\n",
        "weights_0_1 = 2*np.random.random((3,hidden_size)) - 1\n",
        "weights_1_2 = 2*np.random.random((hidden_size,1)) - 1\n",
        "\n",
        "for iteration in range(60):\n",
        "   layer_2_error = 0\n",
        "   for i in range(len(streetlights)):\n",
        "      layer_0 = streetlights[i:i+1]\n",
        "      layer_1 = relu(np.dot(layer_0,weights_0_1))\n",
        "      layer_2 = np.dot(layer_1,weights_1_2)\n",
        "\n",
        "      layer_2_error += np.sum((layer_2 - walk_vs_stop[i:i+1]) ** 2)\n",
        "\n",
        "      layer_2_delta = (layer_2 - walk_vs_stop[i:i+1])\n",
        "      layer_1_delta=layer_2_delta.dot(weights_1_2.T)*relu2deriv(layer_1)\n",
        "\n",
        "      weights_1_2 -= alpha * layer_1.T.dot(layer_2_delta)\n",
        "      weights_0_1 -= alpha * layer_0.T.dot(layer_1_delta)\n",
        "\n",
        "   if(iteration % 10 == 9):\n",
        "      print(\"Error:\" + str(layer_2_error))"
      ],
      "execution_count": 0,
      "outputs": [
        {
          "output_type": "stream",
          "text": [
            "Error:0.6342311598444467\n",
            "Error:0.35838407676317513\n",
            "Error:0.0830183113303298\n",
            "Error:0.006467054957103705\n",
            "Error:0.0003292669000750734\n",
            "Error:1.5055622665134859e-05\n"
          ],
          "name": "stdout"
        }
      ]
    },
    {
      "cell_type": "markdown",
      "metadata": {
        "id": "kBcqBIPsZX3d",
        "colab_type": "text"
      },
      "source": [
        "# Overfitting in neurual networks:-\n",
        "  "
      ]
    },
    {
      "cell_type": "markdown",
      "metadata": {
        "id": "ZZ7WrE70ZijG",
        "colab_type": "text"
      },
      "source": [
        "**Sometimes correlation happens accidentally**... Consider again the first example in the training data. What if our far left weight was 0.5 and our far right weight was  -0.5. Their prediction would equal 0! The network would predict perfectly! However, it hasn't remotely learned how to safely predict streetlights (i.e. those weights would fail in the real world). This phenomenon is known as overfitting. "
      ]
    },
    {
      "cell_type": "markdown",
      "metadata": {
        "id": "7OK-zvf9Zq_l",
        "colab_type": "text"
      },
      "source": [
        "**Deep Learning's Greatest Weakness:** Overfitting Error is shared between all of our weights. If a particular configuration of weights accidentally creates perfect correlation between our prediction and the output dataset (such that error == 0) without actually giving the heaviest weight to the best inputs... the neural network will stop learning. "
      ]
    },
    {
      "cell_type": "code",
      "metadata": {
        "id": "imA0ybwWPIs7",
        "colab_type": "code",
        "outputId": "e3612668-da01-49fc-af7a-52f3d211f037",
        "colab": {
          "base_uri": "https://localhost:8080/",
          "height": 85
        }
      },
      "source": [
        "import numpy as np\n",
        "X = streetlights\n",
        "y = walk_vs_stop\n",
        "weights = np.array([.5, 0, -.5])\n",
        "alpha = 0.1\n",
        "errors = []\n",
        "for i in range(20):\n",
        "  total_error = 0\n",
        "  for j in range(len(X)):\n",
        "    \n",
        "    input = X[j]\n",
        "    \n",
        "    pred = input.dot(weights)\n",
        "    error = (pred - y[j])**2\n",
        "    total_error += error\n",
        "    \n",
        "    delta = pred - y[j]\n",
        "    weight_delta = delta * (alpha  * input)\n",
        "    if (i + 1) % 10 == 10:\n",
        "      if j == 0:\n",
        "        print('-'*40)\n",
        "        print(f'row no. {j + 1}')\n",
        "        print(f'Weights for this row:=  {weights}\\n prediction:=  {pred} \\n actual:- {y[j]} \\n error:= {error}\\n delta:= {delta} \\n weight_delta:= {weight_delta}')\n",
        "    weights -= weight_delta\n",
        "  errors.append(total_error)\n",
        "  if (i + 1) % 10 == 0:\n",
        "    print(f'Iteration {i + 1}')\n",
        "    print(f'Total erro for iteration {i+ 1} is {total_error}')"
      ],
      "execution_count": 0,
      "outputs": [
        {
          "output_type": "stream",
          "text": [
            "Iteration 10\n",
            "Total erro for iteration 10 is [1.50272291]\n",
            "Iteration 20\n",
            "Total erro for iteration 20 is [1.31973455]\n"
          ],
          "name": "stdout"
        }
      ]
    },
    {
      "cell_type": "code",
      "metadata": {
        "id": "JqpXImTyWppf",
        "colab_type": "code",
        "outputId": "71267235-1376-414f-ac3d-055f9c5927ce",
        "colab": {
          "base_uri": "https://localhost:8080/",
          "height": 295
        }
      },
      "source": [
        "import matplotlib.pyplot as plt\n",
        "%matplotlib inline\n",
        "plt.plot(figsize = (10, 5))\n",
        "plt.plot(range(20), errors, c = 'r')\n",
        "plt.xticks(range(20))\n",
        "plt.xlabel('no. of iterations')\n",
        "plt.ylabel('error')\n",
        "plt.title('error vs. no. of iteration')\n",
        "plt.show()"
      ],
      "execution_count": 0,
      "outputs": [
        {
          "output_type": "display_data",
          "data": {
            "image/png": "[encoded data removed]",
            "text/plain": [
              "<Figure size 432x288 with 1 Axes>"
            ]
          },
          "metadata": {
            "tags": []
          }
        }
      ]
    },
    {
      "cell_type": "code",
      "metadata": {
        "id": "RsP1FKlBYT8I",
        "colab_type": "code",
        "outputId": "f9dcfe68-9adf-4521-b21d-e2505bd08993",
        "colab": {
          "base_uri": "https://localhost:8080/",
          "height": 34
        }
      },
      "source": [
        "np.random.rand(3)"
      ],
      "execution_count": 0,
      "outputs": [
        {
          "output_type": "execute_result",
          "data": {
            "text/plain": [
              "(3,)"
            ]
          },
          "metadata": {
            "tags": []
          },
          "execution_count": 32
        }
      ]
    },
    {
      "cell_type": "code",
      "metadata": {
        "id": "oyO5ppbM0Jek",
        "colab_type": "code",
        "colab": {}
      },
      "source": [
        ""
      ],
      "execution_count": 0,
      "outputs": []
    }
  ]
}